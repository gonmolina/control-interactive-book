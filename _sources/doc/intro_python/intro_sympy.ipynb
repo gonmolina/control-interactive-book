{
 "cells": [
  {
   "cell_type": "markdown",
   "id": "5c677001",
   "metadata": {},
   "source": [
    "# Introducción a SymPy\n",
    "\n",
    "`SymPy es una librería para Python de matemática simbólica. Para poder usarlo necesitamos importar [el paquete SymPy](http://docs.sympy.org/latest/index.html)."
   ]
  },
  {
   "cell_type": "code",
   "execution_count": 1,
   "id": "bfd0e410",
   "metadata": {},
   "outputs": [],
   "source": [
    "import sympy as sp"
   ]
  },
  {
   "cell_type": "markdown",
   "id": "c9ec9cd2",
   "metadata": {},
   "source": [
    "Para imprimir las fórmulas por pantalla y obtener una visualización tipográfica agradable, además es necesario ejecutar:"
   ]
  },
  {
   "cell_type": "code",
   "execution_count": 2,
   "id": "6da417b7",
   "metadata": {},
   "outputs": [],
   "source": [
    "sp.init_printing()"
   ]
  },
  {
   "cell_type": "markdown",
   "id": "ed723af5",
   "metadata": {},
   "source": [
    "Tenga en cuenta que esto puede cambiar según cual sea de la versión de sympy"
   ]
  },
  {
   "cell_type": "markdown",
   "id": "c58dd462",
   "metadata": {},
   "source": [
    "Luego, ya para comenzar con la operatorio simbólica, necesitamos crear un símbolo."
   ]
  },
  {
   "cell_type": "code",
   "execution_count": 3,
   "id": "80af7054",
   "metadata": {},
   "outputs": [
    {
     "data": {
      "image/png": "[encoded data removed]",
      "text/latex": [
       "$\\displaystyle x$"
      ],
      "text/plain": [
       "x"
      ]
     },
     "execution_count": 3,
     "metadata": {
      "filenames": {
       "image/png": "/home/runner/work/control-interactive-book/control-interactive-book/book/_build/jupyter_execute/doc/intro_python/intro_sympy_6_0.png"
      }
     },
     "output_type": "execute_result"
    }
   ],
   "source": [
    "x = sp.Symbol('x')\n",
    "x"
   ]
  },
  {
   "cell_type": "markdown",
   "id": "c1378fe8",
   "metadata": {
    "lang": "es"
   },
   "source": [
    "`SymPy` nos permite hacer muchas operaciones matemáticas que serían tediosas a\n",
    "mano. Por ejemplo, podemos expandir un polinomio:"
   ]
  },
  {
   "cell_type": "code",
   "execution_count": 4,
   "id": "c24d0384",
   "metadata": {},
   "outputs": [
    {
     "data": {
      "image/png": "[encoded data removed]",
      "text/latex": [
       "$\\displaystyle 16 x^{4} + 96 x^{3} + 216 x^{2} + 216 x + 81$"
      ],
      "text/plain": [
       "    4       3        2             \n",
       "16⋅x  + 96⋅x  + 216⋅x  + 216⋅x + 81"
      ]
     },
     "execution_count": 4,
     "metadata": {
      "filenames": {
       "image/png": "/home/runner/work/control-interactive-book/control-interactive-book/book/_build/jupyter_execute/doc/intro_python/intro_sympy_8_0.png"
      }
     },
     "output_type": "execute_result"
    }
   ],
   "source": [
    "polynomial = (2*x + 3)**4\n",
    "polynomial.expand()"
   ]
  },
  {
   "cell_type": "markdown",
   "id": "04ea536f",
   "metadata": {
    "lang": "es"
   },
   "source": [
    "Observe lo que sucedió: definimos un nuevo nombre llamado `polynomial`\n",
    "y luego usamos el método `.expand()` para expandir el polinomio. Podemos ver\n",
    "todos los métodos asociados con un objeto escribiendo su nombre y un punto y\n",
    "luego presionando \"tabulador\".\n",
    "\n",
    "Acceda a la lista de métodos para la variable polynomial ingresando \".\" y\n",
    "presionando tabulador al final de la línea en la celda a continuación."
   ]
  },
  {
   "cell_type": "markdown",
   "id": "01d5d7a3",
   "metadata": {
    "lang": "es"
   },
   "source": [
    "Para obtener ayuda sobre cualquier método, podemos escribir su nombre y\n",
    "agregar un `?` al final, luego evaluar la celda.\n",
    "\n",
    "Obtenga ayuda sobre el método `.expand()` mediante la evaluación de la celda\n",
    "a continuación:"
   ]
  },
  {
   "cell_type": "code",
   "execution_count": 5,
   "id": "821d74e0",
   "metadata": {},
   "outputs": [],
   "source": [
    "polynomial.expand?"
   ]
  },
  {
   "cell_type": "markdown",
   "id": "95a4fa65",
   "metadata": {
    "lang": "es"
   },
   "source": [
    "También es posible obtener ayuda para una función colocando el cursor entre\n",
    "los paréntesis y presionando Mayúscula + Tabulador"
   ]
  },
  {
   "cell_type": "markdown",
   "id": "09278917",
   "metadata": {
    "lang": "es"
   },
   "source": [
    "Por supuesto, también podemos factorizar polinomios:"
   ]
  },
  {
   "cell_type": "code",
   "execution_count": 6,
   "id": "68d812c9",
   "metadata": {},
   "outputs": [
    {
     "data": {
      "image/png": "[encoded data removed]",
      "text/latex": [
       "$\\displaystyle \\left(x + 1\\right)^{2}$"
      ],
      "text/plain": [
       "       2\n",
       "(x + 1) "
      ]
     },
     "execution_count": 6,
     "metadata": {
      "filenames": {
       "image/png": "/home/runner/work/control-interactive-book/control-interactive-book/book/_build/jupyter_execute/doc/intro_python/intro_sympy_14_0.png"
      }
     },
     "output_type": "execute_result"
    }
   ],
   "source": [
    "(x**2 + 2*x + 1).factor()"
   ]
  },
  {
   "cell_type": "markdown",
   "id": "9e9fb029",
   "metadata": {},
   "source": [
    "## Cálculo\n",
    "\n",
    "`SymPy` sabe integrar y diferenciar."
   ]
  },
  {
   "cell_type": "code",
   "execution_count": 7,
   "id": "093c0723",
   "metadata": {},
   "outputs": [
    {
     "data": {
      "image/png": "[encoded data removed]",
      "text/latex": [
       "$\\displaystyle 8 \\left(2 x + 3\\right)^{3}$"
      ],
      "text/plain": [
       "           3\n",
       "8⋅(2⋅x + 3) "
      ]
     },
     "execution_count": 7,
     "metadata": {
      "filenames": {
       "image/png": "/home/runner/work/control-interactive-book/control-interactive-book/book/_build/jupyter_execute/doc/intro_python/intro_sympy_16_0.png"
      }
     },
     "output_type": "execute_result"
    }
   ],
   "source": [
    "polynomial.diff(x)  # First derivative"
   ]
  },
  {
   "cell_type": "code",
   "execution_count": 8,
   "id": "732e567e",
   "metadata": {},
   "outputs": [
    {
     "data": {
      "image/png": "[encoded data removed]",
      "text/latex": [
       "$\\displaystyle 48 \\left(2 x + 3\\right)^{2}$"
      ],
      "text/plain": [
       "            2\n",
       "48⋅(2⋅x + 3) "
      ]
     },
     "execution_count": 8,
     "metadata": {
      "filenames": {
       "image/png": "/home/runner/work/control-interactive-book/control-interactive-book/book/_build/jupyter_execute/doc/intro_python/intro_sympy_17_0.png"
      }
     },
     "output_type": "execute_result"
    }
   ],
   "source": [
    "polynomial.diff(x, 2)  # Second derivative"
   ]
  },
  {
   "cell_type": "code",
   "execution_count": 9,
   "id": "bc2bdbd0",
   "metadata": {},
   "outputs": [
    {
     "data": {
      "image/png": "[encoded data removed]",
      "text/latex": [
       "$\\displaystyle \\frac{16 x^{5}}{5} + 24 x^{4} + 72 x^{3} + 108 x^{2} + 81 x$"
      ],
      "text/plain": [
       "    5                                \n",
       "16⋅x        4       3        2       \n",
       "───── + 24⋅x  + 72⋅x  + 108⋅x  + 81⋅x\n",
       "  5                                  "
      ]
     },
     "execution_count": 9,
     "metadata": {
      "filenames": {
       "image/png": "/home/runner/work/control-interactive-book/control-interactive-book/book/_build/jupyter_execute/doc/intro_python/intro_sympy_18_0.png"
      }
     },
     "output_type": "execute_result"
    }
   ],
   "source": [
    "# indefinite integral - note no constant of integration is added\n",
    "polynomial.integrate(x)"
   ]
  },
  {
   "cell_type": "code",
   "execution_count": 10,
   "id": "f2de2171",
   "metadata": {},
   "outputs": [
    {
     "data": {
      "image/png": "[encoded data removed]",
      "text/latex": [
       "$\\displaystyle \\frac{6841}{5}$"
      ],
      "text/plain": [
       "6841/5"
      ]
     },
     "execution_count": 10,
     "metadata": {
      "filenames": {
       "image/png": "/home/runner/work/control-interactive-book/control-interactive-book/book/_build/jupyter_execute/doc/intro_python/intro_sympy_19_0.png"
      }
     },
     "output_type": "execute_result"
    }
   ],
   "source": [
    "# Note that integrate takes one argument which is a tuple for the definite\n",
    "# integral\n",
    "polynomial.integrate((x, 1, 2))"
   ]
  },
  {
   "cell_type": "markdown",
   "id": "5c180fc9",
   "metadata": {
    "lang": "es"
   },
   "source": [
    "## Límites\n",
    "\n",
    "Podemos evaluar los límites usando `SymPy`, incluso para límites \"interesantes\"\n",
    "donde necesitaríamos la regla de L'Hopital"
   ]
  },
  {
   "cell_type": "code",
   "execution_count": 11,
   "id": "6a15c456",
   "metadata": {},
   "outputs": [
    {
     "data": {
      "image/png": "[encoded data removed]",
      "text/latex": [
       "$\\displaystyle 6$"
      ],
      "text/plain": [
       "6"
      ]
     },
     "execution_count": 11,
     "metadata": {
      "filenames": {
       "image/png": "/home/runner/work/control-interactive-book/control-interactive-book/book/_build/jupyter_execute/doc/intro_python/intro_sympy_21_0.png"
      }
     },
     "output_type": "execute_result"
    }
   ],
   "source": [
    "sp.limit((2*sp.sin(x) - sp.sin(2*x))/(x - sp.sin(x)), x, 0)"
   ]
  },
  {
   "cell_type": "markdown",
   "id": "e7c5b9ff",
   "metadata": {
    "lang": "es"
   },
   "source": [
    "## Aproximación\n",
    "\n",
    "`SymPy` tiene soporte incorporado para la expansión de series de Taylor"
   ]
  },
  {
   "cell_type": "code",
   "execution_count": 12,
   "id": "a33e4570",
   "metadata": {},
   "outputs": [
    {
     "data": {
      "image/png": "[encoded data removed]",
      "text/latex": [
       "$\\displaystyle \\sin{\\left(2 \\right)} + \\left(x - 2\\right) \\cos{\\left(2 \\right)} + O\\left(\\left(x - 2\\right)^{2}; x\\rightarrow 2\\right)$"
      ],
      "text/plain": [
       "                           ⎛       2       ⎞\n",
       "sin(2) + (x - 2)⋅cos(2) + O⎝(x - 2) ; x → 2⎠"
      ]
     },
     "execution_count": 12,
     "metadata": {
      "filenames": {
       "image/png": "/home/runner/work/control-interactive-book/control-interactive-book/book/_build/jupyter_execute/doc/intro_python/intro_sympy_23_0.png"
      }
     },
     "output_type": "execute_result"
    }
   ],
   "source": [
    "nonlinear_expression = sp.sin(x)\n",
    "\n",
    "# taylor expansion in terms of the x variable, around x=2, first order.\n",
    "sp.series(nonlinear_expression, x, 2, 2)"
   ]
  },
  {
   "cell_type": "markdown",
   "id": "23155683",
   "metadata": {
    "lang": "es"
   },
   "source": [
    "Para eliminar el término de perdida use `.removeO()`"
   ]
  },
  {
   "cell_type": "code",
   "execution_count": 13,
   "id": "8b0be069",
   "metadata": {},
   "outputs": [
    {
     "data": {
      "image/png": "[encoded data removed]",
      "text/latex": [
       "$\\displaystyle \\left(x - 2\\right) \\cos{\\left(2 \\right)} + \\sin{\\left(2 \\right)}$"
      ],
      "text/plain": [
       "(x - 2)⋅cos(2) + sin(2)"
      ]
     },
     "execution_count": 13,
     "metadata": {
      "filenames": {
       "image/png": "/home/runner/work/control-interactive-book/control-interactive-book/book/_build/jupyter_execute/doc/intro_python/intro_sympy_25_0.png"
      }
     },
     "output_type": "execute_result"
    }
   ],
   "source": [
    "temp = sp.series(nonlinear_expression, x, 2, 2)\n",
    "temp.removeO()"
   ]
  },
  {
   "cell_type": "markdown",
   "id": "9a3a8a60",
   "metadata": {
    "lang": "es"
   },
   "source": [
    "También notará que el comportamiento predeterminado de `SymPy` es retener\n",
    "representaciones exactas de ciertos números:"
   ]
  },
  {
   "cell_type": "code",
   "execution_count": 14,
   "id": "6d1ff789",
   "metadata": {},
   "outputs": [
    {
     "data": {
      "image/png": "[encoded data removed]",
      "text/latex": [
       "$\\displaystyle \\sqrt{2} \\pi$"
      ],
      "text/plain": [
       "√2⋅π"
      ]
     },
     "execution_count": 14,
     "metadata": {
      "filenames": {
       "image/png": "/home/runner/work/control-interactive-book/control-interactive-book/book/_build/jupyter_execute/doc/intro_python/intro_sympy_27_0.png"
      }
     },
     "output_type": "execute_result"
    }
   ],
   "source": [
    "number = sp.sqrt(2)*sp.pi\n",
    "number"
   ]
  },
  {
   "cell_type": "markdown",
   "id": "a41899b5",
   "metadata": {
    "lang": "es"
   },
   "source": [
    "Para convertir las representaciones exactas de arriba en representaciones\n",
    "aproximadas de [punto flotante](https://en.wikipedia.org/wiki/Floating_point), use uno de estos métodos:\n",
    "\n",
    "- `sympy.N` funciona con expresiones complicadas que también contienen variables.\n",
    "- `float` devolverá un número de tipo `float` de Python normal y es útil cuando se interactúa\n",
    "con programas que no son de `SymPy`."
   ]
  },
  {
   "cell_type": "code",
   "execution_count": 15,
   "id": "dfb66da7",
   "metadata": {},
   "outputs": [
    {
     "data": {
      "image/png": "[encoded data removed]",
      "text/latex": [
       "$\\displaystyle 4.44288293815837 x$"
      ],
      "text/plain": [
       "4.44288293815837⋅x"
      ]
     },
     "execution_count": 15,
     "metadata": {
      "filenames": {
       "image/png": "/home/runner/work/control-interactive-book/control-interactive-book/book/_build/jupyter_execute/doc/intro_python/intro_sympy_29_0.png"
      }
     },
     "output_type": "execute_result"
    }
   ],
   "source": [
    "sp.N(number*x)"
   ]
  },
  {
   "cell_type": "code",
   "execution_count": 16,
   "id": "581b2b22",
   "metadata": {},
   "outputs": [
    {
     "data": {
      "image/png": "[encoded data removed]",
      "text/latex": [
       "$\\displaystyle 4.442882938158366$"
      ],
      "text/plain": [
       "4.442882938158366"
      ]
     },
     "execution_count": 16,
     "metadata": {
      "filenames": {
       "image/png": "/home/runner/work/control-interactive-book/control-interactive-book/book/_build/jupyter_execute/doc/intro_python/intro_sympy_30_0.png"
      }
     },
     "output_type": "execute_result"
    }
   ],
   "source": [
    "float(number)"
   ]
  },
  {
   "cell_type": "markdown",
   "id": "bc3f46e5",
   "metadata": {},
   "source": [
    "## Resolver ecuaciones\n",
    "\n",
    "`SymPy` puede ayudarnos a resolver y manipular  ecuaciones utilizando la\n",
    "función `solve`. Como muchas funciones de resolución, encuentra ceros de una\n",
    "función, por lo que tenemos que reescribir las ecuaciones de igualdad para\n",
    "que sean iguales a cero,\n",
    "\n",
    "$$\n",
    "\\begin{aligned}\n",
    " 2x^2 + 2 &= 4 \\\\\n",
    " 2x^2 + 2 - 4 &= 0\n",
    "\\end{aligned}\n",
    "$$"
   ]
  },
  {
   "cell_type": "code",
   "execution_count": 17,
   "id": "a3f74fa6",
   "metadata": {},
   "outputs": [
    {
     "data": {
      "image/png": "[encoded data removed]",
      "text/latex": [
       "$\\displaystyle \\left[ -1, \\  1\\right]$"
      ],
      "text/plain": [
       "[-1, 1]"
      ]
     },
     "execution_count": 17,
     "metadata": {
      "filenames": {
       "image/png": "/home/runner/work/control-interactive-book/control-interactive-book/book/_build/jupyter_execute/doc/intro_python/intro_sympy_32_0.png"
      }
     },
     "output_type": "execute_result"
    }
   ],
   "source": [
    "solutions = sp.solve(2*x**2 + 2 - 4)\n",
    "solutions"
   ]
  },
  {
   "cell_type": "code",
   "execution_count": 18,
   "id": "82837ab3",
   "metadata": {},
   "outputs": [
    {
     "data": {
      "image/png": "[encoded data removed]",
      "text/latex": [
       "$\\displaystyle -1$"
      ],
      "text/plain": [
       "-1"
      ]
     },
     "execution_count": 18,
     "metadata": {
      "filenames": {
       "image/png": "/home/runner/work/control-interactive-book/control-interactive-book/book/_build/jupyter_execute/doc/intro_python/intro_sympy_33_0.png"
      }
     },
     "output_type": "execute_result"
    }
   ],
   "source": [
    "solutions[0]"
   ]
  },
  {
   "cell_type": "markdown",
   "id": "a24e1ce1",
   "metadata": {
    "lang": "es"
   },
   "source": [
    "También podemos usar `sp.Eq` para construir ecuaciones"
   ]
  },
  {
   "cell_type": "code",
   "execution_count": 19,
   "id": "2331b9f3",
   "metadata": {},
   "outputs": [
    {
     "data": {
      "image/png": "[encoded data removed]",
      "text/latex": [
       "$\\displaystyle 2 x^{2} + 2 = 4$"
      ],
      "text/plain": [
       "   2        \n",
       "2⋅x  + 2 = 4"
      ]
     },
     "execution_count": 19,
     "metadata": {
      "filenames": {
       "image/png": "/home/runner/work/control-interactive-book/control-interactive-book/book/_build/jupyter_execute/doc/intro_python/intro_sympy_35_0.png"
      }
     },
     "output_type": "execute_result"
    }
   ],
   "source": [
    "equation = sp.Eq(2*x**2 + 2, 4)\n",
    "equation"
   ]
  },
  {
   "cell_type": "markdown",
   "id": "d1c897c2",
   "metadata": {
    "lang": "es"
   },
   "source": [
    "La función roots nos dará también la multiplicidad de las raíces."
   ]
  },
  {
   "cell_type": "code",
   "execution_count": 20,
   "id": "8fd9db25",
   "metadata": {},
   "outputs": [
    {
     "data": {
      "image/png": "[encoded data removed]",
      "text/latex": [
       "$\\displaystyle \\left\\{ -1 : 1, \\  1 : 1\\right\\}$"
      ],
      "text/plain": [
       "{-1: 1, 1: 1}"
      ]
     },
     "execution_count": 20,
     "metadata": {
      "filenames": {
       "image/png": "/home/runner/work/control-interactive-book/control-interactive-book/book/_build/jupyter_execute/doc/intro_python/intro_sympy_37_0.png"
      }
     },
     "output_type": "execute_result"
    }
   ],
   "source": [
    "sol = sp.roots(equation)\n",
    "sol"
   ]
  },
  {
   "cell_type": "markdown",
   "id": "11f49f10",
   "metadata": {},
   "source": [
    "Esto no dice que la ecuación anterior tiene una solución -1 y otra solución\n",
    "igual 1."
   ]
  },
  {
   "cell_type": "markdown",
   "id": "f0eb8d9f",
   "metadata": {
    "lang": "es"
   },
   "source": [
    "También podemos resolver sistemas de ecuaciones pasando una lista de\n",
    "ecuaciones para resolver y pidiendo una lista de variables para resolver."
   ]
  },
  {
   "cell_type": "code",
   "execution_count": 21,
   "id": "8e1d3b44",
   "metadata": {},
   "outputs": [
    {
     "data": {
      "image/png": "[encoded data removed]",
      "text/latex": [
       "$\\displaystyle \\left\\{ x : 1, \\  y : 1\\right\\}$"
      ],
      "text/plain": [
       "{x: 1, y: 1}"
      ]
     },
     "execution_count": 21,
     "metadata": {
      "filenames": {
       "image/png": "/home/runner/work/control-interactive-book/control-interactive-book/book/_build/jupyter_execute/doc/intro_python/intro_sympy_40_0.png"
      }
     },
     "output_type": "execute_result"
    }
   ],
   "source": [
    "x, y = sp.symbols('x, y')\n",
    "sp.solve([x + y - 2,\n",
    "          x - y - 0], [y, x])"
   ]
  },
  {
   "cell_type": "markdown",
   "id": "a8564045",
   "metadata": {
    "lang": "es"
   },
   "source": [
    "Esto incluso funciona con variables simbólicas en las ecuaciones."
   ]
  },
  {
   "cell_type": "code",
   "execution_count": 22,
   "id": "2b570090",
   "metadata": {},
   "outputs": [
    {
     "data": {
      "image/png": "[encoded data removed]",
      "text/latex": [
       "$\\displaystyle \\left\\{ x : \\frac{c + 2}{2 a}, \\  y : \\frac{2 - c}{2 b}\\right\\}$"
      ],
      "text/plain": [
       "⎧   c + 2     2 - c⎫\n",
       "⎨x: ─────, y: ─────⎬\n",
       "⎩    2⋅a       2⋅b ⎭"
      ]
     },
     "execution_count": 22,
     "metadata": {
      "filenames": {
       "image/png": "/home/runner/work/control-interactive-book/control-interactive-book/book/_build/jupyter_execute/doc/intro_python/intro_sympy_42_0.png"
      }
     },
     "output_type": "execute_result"
    }
   ],
   "source": [
    "a, b, c = sp.var('a, b, c')\n",
    "solution = sp.solve([a*x + b*y - 2,\n",
    "                     a*x - b*y - c], [x, y])\n",
    "solution"
   ]
  },
  {
   "cell_type": "code",
   "execution_count": 23,
   "id": "336c9c9e",
   "metadata": {},
   "outputs": [
    {
     "data": {
      "text/plain": [
       "dict_items([(x, (c + 2)/(2*a)), (y, (2 - c)/(2*b))])"
      ]
     },
     "execution_count": 23,
     "metadata": {},
     "output_type": "execute_result"
    }
   ],
   "source": [
    "solution.items()"
   ]
  },
  {
   "cell_type": "code",
   "execution_count": 24,
   "id": "326f3c34",
   "metadata": {},
   "outputs": [],
   "source": [
    "a = [i for i in solution.values()]"
   ]
  },
  {
   "cell_type": "code",
   "execution_count": 25,
   "id": "cf40ca44",
   "metadata": {},
   "outputs": [
    {
     "data": {
      "image/png": "[encoded data removed]",
      "text/latex": [
       "$\\displaystyle \\frac{c + 2}{2 a}$"
      ],
      "text/plain": [
       "c + 2\n",
       "─────\n",
       " 2⋅a "
      ]
     },
     "execution_count": 25,
     "metadata": {
      "filenames": {
       "image/png": "/home/runner/work/control-interactive-book/control-interactive-book/book/_build/jupyter_execute/doc/intro_python/intro_sympy_45_0.png"
      }
     },
     "output_type": "execute_result"
    }
   ],
   "source": [
    "a[0]"
   ]
  },
  {
   "cell_type": "code",
   "execution_count": 26,
   "id": "0d61a33e",
   "metadata": {},
   "outputs": [
    {
     "data": {
      "image/png": "[encoded data removed]",
      "text/latex": [
       "$\\displaystyle \\frac{2 - c}{2 b}$"
      ],
      "text/plain": [
       "2 - c\n",
       "─────\n",
       " 2⋅b "
      ]
     },
     "execution_count": 26,
     "metadata": {
      "filenames": {
       "image/png": "/home/runner/work/control-interactive-book/control-interactive-book/book/_build/jupyter_execute/doc/intro_python/intro_sympy_46_0.png"
      }
     },
     "output_type": "execute_result"
    }
   ],
   "source": [
    "a[1]"
   ]
  }
 ],
 "metadata": {
  "jupytext": {
   "encoding": "# -*- coding: utf-8 -*-",
   "formats": "md:myst,ipynb",
   "text_representation": {
    "extension": ".md",
    "format_name": "myst",
    "format_version": 0.13,
    "jupytext_version": "1.11.0"
   }
  },
  "kernelspec": {
   "display_name": "Python 3",
   "language": "python",
   "name": "python3"
  },
  "language_info": {
   "codemirror_mode": {
    "name": "ipython",
    "version": 3
   },
   "file_extension": ".py",
   "mimetype": "text/x-python",
   "name": "python",
   "nbconvert_exporter": "python",
   "pygments_lexer": "ipython3",
   "version": "3.8.10"
  },
  "source_map": [
   14,
   20,
   22,
   26,
   28,
   32,
   36,
   41,
   46,
   51,
   61,
   69,
   73,
   78,
   82,
   84,
   90,
   94,
   98,
   103,
   109,
   116,
   120,
   126,
   133,
   137,
   142,
   147,
   152,
   161,
   165,
   167,
   183,
   188,
   192,
   196,
   201,
   205,
   208,
   213,
   218,
   224,
   228,
   235,
   239,
   243,
   247
  ]
 },
 "nbformat": 4,
 "nbformat_minor": 5
}