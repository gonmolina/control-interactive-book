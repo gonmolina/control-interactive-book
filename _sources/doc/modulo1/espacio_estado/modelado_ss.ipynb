{
 "cells": [
  {
   "cell_type": "markdown",
   "id": "0c418300",
   "metadata": {},
   "source": [
    "# Modelado en espacio de estados\n",
    "\n",
    "\n",
    "Es la representación de ecuaciones de estado de orden N en N ecuaciones diferenciales de primer orden.\n",
    "\n",
    "El orden de las ecuaciones diferenciales es igual al número de integradores del sistema y es igual al número de variables de estado.\n",
    "\n",
    "$$  \n",
    "a_n ~ y^n(t) + a_{n-1} ~ y^{n-1}(t) + ~ ... ~ + a_1 ~ \\dot{y}(t) + a_0 ~ y(t) = u(t)\n",
    "$$"
   ]
  },
  {
   "cell_type": "markdown",
   "id": "64e67b77",
   "metadata": {},
   "source": [
    "Para podemos representar las ecuación diferencia ordinaria anterior en espacio de estados, lo que haremos es defir las variables de estado $x_1,x_2,x_3~ \\cdots ~ x_n$ como:\n",
    "\n",
    "$$\n",
    "\\begin{matrix}\n",
    "\\begin{array}{c} x_1 = y\\\\ x_2 = \\dot y\\\\ x_3 = \\ddot y\\\\ \\vdots\\\\ x_{n-1} = y^{n-2}\\\\ x_n = y^{n-1} \\end{array} & \\left \\{ \\begin{array}{l} \\dot{x_1} = x_2 = \\dot y \\\\ \\dot{x_2} = x_3 = \\ddot y \\\\ \\dot{x_3} = x_4 = y^{3}\n",
    "\\\\ \\vdots\n",
    "\\\\ \\dot x_{n-1} = x_n = y^{n-1}\n",
    "\\\\ \\dot x_{n} = y_n = -\\frac{a_{n-1}}{a_n} x_n - \\cdots - \\frac{a_{1}}{a_n} x_2 - \\frac{a_{0}}{a_n} x_1 + \\frac{1}{a_n} u \\end{array}\\right.\n",
    "\\end{matrix}\n",
    "$$"
   ]
  },
  {
   "cell_type": "markdown",
   "id": "a294d4ad",
   "metadata": {},
   "source": [
    "En forma matricial se puede expresar como:\n",
    "\n",
    "$$\n",
    "\\begin{aligned}\n",
    "\\dot{\\mathbf x}(t) &=\\mathbf f(\\mathbf x, \\mathbf u) =\\mathbf A \\mathbf x (t) +\\mathbf B \\mathbf u(t) \\\\\n",
    "\\mathbf y(t) &=\\mathbf g(\\mathbf x, \\mathbf u) =\\mathbf C \\mathbf x(t) +\\mathbf D\\mathbf u(t) \n",
    "\\end{aligned}\n",
    "$$"
   ]
  },
  {
   "cell_type": "markdown",
   "id": "1f8464f1",
   "metadata": {},
   "source": [
    "desarrollando las matrices para el caso particular anterior de una entrada y una salida tenemos:\n",
    "\n",
    "$$\n",
    "\\begin{bmatrix} \\dot{x_1}\\\\\\dot{x_2}\\\\ \\vdots \\\\ \\dot{x_n} \\end{bmatrix} \n",
    "= \\underbrace{\\begin{bmatrix}\n",
    "  0 & 1 & 0 & \\cdots & 0 \\\\\n",
    "  0 & 0 & 1 & \\cdots & 0 \\\\\n",
    "  \\vdots & \\vdots & \\vdots & \\ddots &  \\vdots \\\\\n",
    "  -\\frac{a_{0}}{a_n} & - \\frac{a_{1}}{a_n} & -\\frac{a_{2}}{a_n} &\\cdots & -\\frac{a_{n-1}}{a_n} \n",
    " \\end{bmatrix}}_{=\\mathbf A} \\begin{bmatrix} {x_1}\\\\{x_2}\\\\ \\vdots \\\\ {x_n} \\end{bmatrix} \n",
    " + \\underbrace{\\begin{bmatrix} 0 \\\\0\\\\ \\vdots \\\\ \\frac{1}{a_n} \\end{bmatrix}}_{=\\mathbf B}~ u\n",
    "$$\n",
    " \n",
    "$$\n",
    "y= \\underbrace{\\begin{bmatrix}  1 & 0 & \\cdots & 0 \\end{bmatrix}}_{ =\\mathbf C} \n",
    "   \\begin{bmatrix} {x_1}\\\\{x_2}\\\\ \\vdots \\\\ {x_n} \\end{bmatrix} \n",
    " + \\underbrace{\\begin{bmatrix}0\\end{bmatrix}}_{= D} ~u\n",
    " $$"
   ]
  },
  {
   "cell_type": "markdown",
   "id": "b182c795",
   "metadata": {},
   "source": [
    "## Ejemplo de sistema electromecánico: motor eléctrico\n",
    "\n",
    "### Desarrollo de las ecuaciones"
   ]
  },
  {
   "cell_type": "markdown",
   "id": "674ccdf0",
   "metadata": {},
   "source": [
    "Del ejemplo anterior reescribimos las ecuaciones que describen la dinámica del motor eléctrico, de forma conveniente (en ambos casos la derivada de mayor orden a la izquierda del signo igual):\n",
    "\n",
    "$$ \n",
    "\\left\\{\\begin{array}{c}\n",
    "\\frac{di_a(t)}{dt} = \\frac{1}{L_a} e_a(t) -\\frac{ R_a}{L_a} i_a(t) -  \\frac{K_b}{L_a} \\frac{d\\theta_m(t)}{dt}  \\\\\n",
    "\\frac{d^2\\theta_m(t)}{dt^2} =   \\frac{K_t}{J_m} i_a(t) - \\frac{D_m}{J_m}\\frac{d\\theta_m(t)}{dt} - \\frac{1}{J_m} T_r(t)\n",
    "\\end{array}\\right.\n",
    "$$"
   ]
  },
  {
   "cell_type": "markdown",
   "id": "b0e5d612",
   "metadata": {},
   "source": [
    "propondremos como variables de estados (VE) a $i_a(t)$,$\\frac{d\\theta_m(t)}{dt}$ y $\\theta_m(t)$ por lo que,\n",
    "\n",
    "$$\n",
    "\\begin{matrix}\n",
    "u(t) = e_a(t) &\\mbox{y}& w(t)= T_r(t)\\\\\n",
    "x_1 = i_a &\\Longrightarrow & \\dot{x_1}=\\frac{di_a}{dt} \\\\\n",
    "x_2 = \\frac{d\\theta_m(t)}{dt} &\\Longrightarrow & \\dot{x_2}=\\frac{d^2\\theta_m}{dt^2}\\\\\n",
    "x_3 = \\theta_m &\\Longrightarrow & \\dot{x_3}=\\frac{d\\theta_m}{dt} = x_2\n",
    "\\end{matrix}\n",
    "$$\n",
    "\n",
    "reemplazamos el cambio de variables:\n",
    "\n",
    "$$\n",
    "\\left\\{\\begin{array}{c}\n",
    "\\dot{x_1} = \\frac{1}{L_a} u(t) -\\frac{ R_a}{L_a} x_1(t) -  \\frac{K_b}{L_a} x_2(t) \\\\\n",
    "\\dot{x_2} = \\frac{K_t}{J_m} x_1(t) - \\frac{D_m}{J_m} x_2(t) - \\frac{1}{J_m} w(t)\\\\\n",
    "\\dot{x_3} =  x_2\n",
    "\\end{array}\\right.\n",
    "$$"
   ]
  },
  {
   "cell_type": "markdown",
   "id": "41ff1088",
   "metadata": {},
   "source": [
    "Finalmente en forma matricial tenemos que:\n",
    "\n",
    "$$\n",
    "\\begin{bmatrix} \\dot{x_1}\\\\\\dot{x_2} \\\\ \\dot{x_3} \\end{bmatrix} \n",
    "= \n",
    "~\n",
    "\\underbrace{\\begin{bmatrix}\n",
    "-\\frac{ R_a}{L_a} &  -  \\frac{K_b}{L_a} & 0\\\\\n",
    "\\frac{K_t}{J_m} & - \\frac{D_m}{J_m} & 0\\\\\n",
    "0 & 1 & 0\n",
    "\\end{bmatrix}}_{=~A}\n",
    "~ \n",
    "\\begin{bmatrix} {x_1}\\\\{x_2}\\\\ {x_3} \\end{bmatrix} \n",
    "+ \n",
    "\\underbrace{\\begin{bmatrix} \\frac{1}{L_a}\\\\0 \\\\0\\end{bmatrix} }_{=~B}\n",
    "u \n",
    "+\n",
    "~ \\underbrace{\\begin{bmatrix} 0\\\\- \\frac{1}{J_m} \\\\0\\end{bmatrix} }_{=~B_1}\n",
    "w\\\\\n",
    "y = ~ \\underbrace{\\begin{bmatrix} 0 &  0 & 1\\end{bmatrix}}_{=~C} \n",
    "\\begin{bmatrix} {x_1}\\\\{x_2}\\\\ {x_3} \\end{bmatrix} \n",
    "+\n",
    "~ \\underbrace{\\begin{bmatrix} 0 \\end{bmatrix} }_{=~D}\n",
    "u\n",
    "$$"
   ]
  },
  {
   "cell_type": "markdown",
   "id": "6731eed0",
   "metadata": {},
   "source": [
    "### Simulación"
   ]
  },
  {
   "cell_type": "code",
   "execution_count": null,
   "id": "a0e13b39",
   "metadata": {
    "tags": [
     "hide-cell"
    ]
   },
   "outputs": [],
   "source": [
    "import control as ctrl\n",
    "import matplotlib.pyplot as plt\n",
    "import numpy as np"
   ]
  },
  {
   "cell_type": "markdown",
   "id": "55426482",
   "metadata": {},
   "source": [
    "Definimos los parámetros del sistema"
   ]
  },
  {
   "cell_type": "code",
   "execution_count": null,
   "id": "a5aca24f",
   "metadata": {},
   "outputs": [],
   "source": [
    "Jm = 3.2284E-6\n",
    "Dm = 3.5077E-6\n",
    "Kb = 0.0274\n",
    "Kt = 0.0274\n",
    "Ra = 4\n",
    "La = 2.75E-6"
   ]
  },
  {
   "cell_type": "markdown",
   "id": "e1dc2444",
   "metadata": {},
   "source": [
    "Con los parámetros del sistema definimos las matrices de estados"
   ]
  },
  {
   "cell_type": "code",
   "execution_count": null,
   "id": "d1241f02",
   "metadata": {},
   "outputs": [],
   "source": [
    "A = [[-Ra/La,-Kb/La,0],[Kt/Jm,-Dm/Jm,0],[0,1,0]]\n",
    "B = [[1/La],[0],[0]]\n",
    "C = [0,0,1]\n",
    "D = 0"
   ]
  },
  {
   "cell_type": "markdown",
   "id": "38823038",
   "metadata": {},
   "source": [
    "Notar que cada matriz es una lista. Esta lista contiene listas que representan cada fila de la matriz.\n",
    "\n",
    "En caso de ser una matriz con una sola fila, la matriz de representa como una lista de float o int números en general.\n",
    "\n",
    "Ahora vamos a definir el sistema en espacio de estados usando el paquete de control e python."
   ]
  },
  {
   "cell_type": "code",
   "execution_count": null,
   "id": "14b22f1b",
   "metadata": {},
   "outputs": [],
   "source": [
    "motor_ss=ctrl.ss(A,B,C,D)\n",
    "motor_ss"
   ]
  },
  {
   "cell_type": "markdown",
   "id": "d052f93b",
   "metadata": {},
   "source": [
    "Vamos a evaluar la respuesta del sistema frente a un cambio escalón en la tension de alimentación. Para esto primero vamos a definir un vector `t` donde nos interesa obtener los valores de la salida. Esto lo haremos usando la función `linspace` de `numpy`."
   ]
  },
  {
   "cell_type": "code",
   "execution_count": null,
   "id": "f2aedf81",
   "metadata": {},
   "outputs": [],
   "source": [
    "t=np.linspace(0,0.1,100)"
   ]
  },
  {
   "cell_type": "markdown",
   "id": "56fd7f42",
   "metadata": {},
   "source": [
    "El función `step_response` del paquete de control de python nos devolverá dos vectores: uno con los tiempo donde calculó las salidas y otro con las salidas."
   ]
  },
  {
   "cell_type": "code",
   "execution_count": null,
   "id": "5404ecee",
   "metadata": {},
   "outputs": [],
   "source": [
    "t,y=ctrl.step_response(motor_ss,T=t)"
   ]
  },
  {
   "cell_type": "markdown",
   "id": "60f4ff54",
   "metadata": {},
   "source": [
    "Una vez que tenemos la salida (para este caso es una sola), podemos graficarla:"
   ]
  },
  {
   "cell_type": "code",
   "execution_count": null,
   "id": "1136ed5a",
   "metadata": {
    "tags": [
     "hide-input"
    ]
   },
   "outputs": [],
   "source": [
    "fig, ax = plt.subplots(figsize=(12,4))\n",
    "ax.plot(t,y)\n",
    "ax.set_title('Posición angular del motor')\n",
    "ax.set_xlabel('Tiempo[s]')\n",
    "ax.set_ylabel(r'$\\theta(t)$')\n",
    "ax.grid()"
   ]
  },
  {
   "cell_type": "markdown",
   "id": "ca505e19",
   "metadata": {},
   "source": [
    "Ahora supongamos que deseamos medir velocidad angular del motor, es decir la variable de estado $x_2$, entonces podemos definir la matriz $C$ de la siguiente manera:\n",
    "\n",
    "$$\\mathbf C = \\begin{bmatrix}\n",
    "0 & 1 & 0\\\\\n",
    "\\end{bmatrix}$$ \n",
    "\n",
    "y graficamos simulamos:"
   ]
  },
  {
   "cell_type": "code",
   "execution_count": null,
   "id": "75edb2f0",
   "metadata": {},
   "outputs": [],
   "source": [
    "C=[0,1,0]\n",
    "motor_vel_ss=ctrl.ss(A,B,C,D)\n",
    "t=np.linspace(0,0.1,200)\n",
    "t,y=ctrl.step_response(24*motor_vel_ss,T=t)"
   ]
  },
  {
   "cell_type": "code",
   "execution_count": null,
   "id": "88ba14f9",
   "metadata": {
    "tags": [
     "hide-input"
    ]
   },
   "outputs": [],
   "source": [
    "fig, ax = plt.subplots(figsize=(12,4))\n",
    "ax.plot(t,y, label=r'$\\theta$')\n",
    "ax.set_title('Posición angular del motor')\n",
    "ax.set_xlabel('Tiempo[s]')\n",
    "ax.set_ylabel(r'$\\theta(t)$')\n",
    "ax.grid()"
   ]
  },
  {
   "cell_type": "markdown",
   "id": "e2ea8614",
   "metadata": {},
   "source": [
    "En los casos anteriores, el sistema es SISO, es decir 1 entrada y 1 salida, supongamos ahora que deseamos medir todas las variables de estado $\\theta_m(t)$ (la posición angular), $\\omega_m (t)= \\frac{d\\theta_m(t)}{dt}$ (la velocidad angular) y $i_a(t)$ (la corriente de armadura), para lo que definiremos nuevamente la matriz de medición $C$ y graficaremos las variables de estado para una entrada del tipo escalón de $1 ~[Volt]$:"
   ]
  },
  {
   "cell_type": "code",
   "execution_count": null,
   "id": "98998cb8",
   "metadata": {},
   "outputs": [],
   "source": [
    "C=[[1,0,0],[0,1,0],[0,0,1]]\n",
    "D=[[0],[0],[0]]\n",
    "motor_ss=ctrl.ss(A,B,C,D)\n",
    "motor_ss"
   ]
  },
  {
   "cell_type": "markdown",
   "id": "7035cc22",
   "metadata": {},
   "source": [
    "Ahora podemos simular la respuesta al escalón"
   ]
  },
  {
   "cell_type": "code",
   "execution_count": null,
   "id": "a83b7c9f",
   "metadata": {},
   "outputs": [],
   "source": [
    "t=np.linspace(0,0.12,500)\n",
    "t,y=ctrl.step_response(24*motor_ss,T=t)"
   ]
  },
  {
   "cell_type": "code",
   "execution_count": null,
   "id": "9d11d77e",
   "metadata": {
    "tags": [
     "hide-input"
    ]
   },
   "outputs": [],
   "source": [
    "fig, axes = plt.subplots(3, 1, figsize=(15, 15))\n",
    "\n",
    "axes[0].plot(t,y[0,:])\n",
    "axes[0].grid()\n",
    "axes[0].set_title(r\"Corriente de armadura $i_a$\")\n",
    "axes[0].set_ylabel(r'$i_a[A]$')\n",
    "\n",
    "axes[1].plot(t,y[1,:], 'g');\n",
    "axes[1].grid()\n",
    "axes[1].set_title(r\"Velocidad angular del motor $\\omega_m (t)$\")\n",
    "axes[1].set_ylabel(r'$\\omega$[rad/seg]')\n",
    "\n",
    "axes[2].plot(t,y[2,:], 'r', label=\"y = x\")\n",
    "axes[2].grid()\n",
    "axes[2].set_title( r\"Posición angular del motor $\\theta_m(t)$\")\n",
    "axes[2].set_xlabel('Tiempo[s]')\n",
    "axes[2].set_ylabel(r'$\\theta_m(t)$');\n",
    "\n",
    "fig.tight_layout()"
   ]
  }
 ],
 "metadata": {
  "jupytext": {
   "formats": "ipynb,md:myst",
   "text_representation": {
    "extension": ".md",
    "format_name": "myst",
    "format_version": 0.13,
    "jupytext_version": "1.10.2"
   }
  },
  "kernelspec": {
   "display_name": "Python 3",
   "language": "python",
   "name": "python3"
  },
  "source_map": [
   13,
   26,
   39,
   50,
   71,
   77,
   88,
   111,
   139,
   143,
   149,
   153,
   160,
   164,
   169,
   177,
   180,
   184,
   186,
   190,
   192,
   196,
   205,
   215,
   222,
   231,
   235,
   240,
   244,
   249
  ]
 },
 "nbformat": 4,
 "nbformat_minor": 5
}