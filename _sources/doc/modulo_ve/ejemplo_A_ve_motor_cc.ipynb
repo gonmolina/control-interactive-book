{
 "cells": [
  {
   "cell_type": "code",
   "execution_count": null,
   "id": "2fa62632",
   "metadata": {
    "executionInfo": {
     "elapsed": 798,
     "status": "ok",
     "timestamp": 1601061613590,
     "user": {
      "displayName": "gonzalo molina",
      "photoUrl": "",
      "userId": "03146719216223860883"
     },
     "user_tz": 180
    },
    "id": "C2YxmTMnkUa3",
    "tags": [
     "remove-cell"
    ]
   },
   "outputs": [],
   "source": [
    "import numpy as np\n",
    "import control as ctrl\n",
    "import matplotlib.pyplot as plt"
   ]
  },
  {
   "cell_type": "markdown",
   "id": "e6dd6c38",
   "metadata": {
    "id": "pNjfWDONkUa-"
   },
   "source": [
    "# Diseño para un motor de continua"
   ]
  },
  {
   "cell_type": "markdown",
   "id": "19ab851e",
   "metadata": {
    "id": "v5bYjjrokUa_"
   },
   "source": [
    "Supongamos que la transferencia de nuestro sistema es:\n",
    "$$G(s)=\\frac{10}{s(s+2)(s+8)}$$\n",
    "Diseño un controlador que ubique los polos en:\n",
    "$$pc=[-1.42;\\quad -1.04\\pm2.14j]$$\n",
    "y los del estimador tres veces más rápidos."
   ]
  },
  {
   "cell_type": "markdown",
   "id": "0eaf10b0",
   "metadata": {
    "id": "fwlecwjskUbA"
   },
   "source": [
    "Como tenemos el sistema en forma de función transferencia lo llevamos a alguna forma en espacio de estados (la que sea por defecto de Python)"
   ]
  },
  {
   "cell_type": "code",
   "execution_count": null,
   "id": "86964033",
   "metadata": {
    "colab": {
     "base_uri": "https://localhost:8080/",
     "height": 40
    },
    "executionInfo": {
     "elapsed": 204,
     "status": "ok",
     "timestamp": 1601066354192,
     "user": {
      "displayName": "gonzalo molina",
      "photoUrl": "",
      "userId": "03146719216223860883"
     },
     "user_tz": 180
    },
    "id": "DEElFP03kUbB",
    "outputId": "ec527d4e-6096-49db-e3a2-2720cf5e4091"
   },
   "outputs": [],
   "source": [
    "G=ctrl.tf(10,[1,10,16,0])\n",
    "G"
   ]
  },
  {
   "cell_type": "markdown",
   "id": "18ccc72f",
   "metadata": {
    "id": "ck2NWiZltFkb"
   },
   "source": [
    "## Expresión en variables de estado"
   ]
  },
  {
   "cell_type": "markdown",
   "id": "ff0cbca3",
   "metadata": {
    "id": "ZCX2Lsx_bjeG"
   },
   "source": [
    "De las formas canónicas disponibles, elegimos la forma canónica de observabilidad."
   ]
  },
  {
   "cell_type": "code",
   "execution_count": null,
   "id": "7f00e34a",
   "metadata": {
    "executionInfo": {
     "elapsed": 209,
     "status": "ok",
     "timestamp": 1601066355517,
     "user": {
      "displayName": "gonzalo molina",
      "photoUrl": "",
      "userId": "03146719216223860883"
     },
     "user_tz": 180
    },
    "id": "IaoFQGmjx7uU",
    "tags": [
     "hide-output"
    ]
   },
   "outputs": [],
   "source": [
    "ctrl.canonical_form?"
   ]
  },
  {
   "cell_type": "code",
   "execution_count": null,
   "id": "f17122fa",
   "metadata": {
    "colab": {
     "base_uri": "https://localhost:8080/",
     "height": 207
    },
    "executionInfo": {
     "elapsed": 235,
     "status": "ok",
     "timestamp": 1601066357175,
     "user": {
      "displayName": "gonzalo molina",
      "photoUrl": "",
      "userId": "03146719216223860883"
     },
     "user_tz": 180
    },
    "id": "eTyyF-0dkUbI",
    "outputId": "143731ef-b4c6-4633-ea4d-73500b16505a"
   },
   "outputs": [],
   "source": [
    "sys,_=ctrl.canonical_form(ctrl.ss(G),'observable')\n",
    "sys"
   ]
  },
  {
   "cell_type": "markdown",
   "id": "4b0f591a",
   "metadata": {
    "id": "lL_pFIdWtUz2"
   },
   "source": [
    "## Ley de control y estimador completo"
   ]
  },
  {
   "cell_type": "code",
   "execution_count": null,
   "id": "b61321d9",
   "metadata": {
    "executionInfo": {
     "elapsed": 182,
     "status": "ok",
     "timestamp": 1601066357992,
     "user": {
      "displayName": "gonzalo molina",
      "photoUrl": "",
      "userId": "03146719216223860883"
     },
     "user_tz": 180
    },
    "id": "35stRVbSkUbM"
   },
   "outputs": [],
   "source": [
    "pc=np.array([-1.42, -1.04+2.14j,-1.04-2.14j])\n",
    "pe = pc*3"
   ]
  },
  {
   "cell_type": "markdown",
   "id": "4b7da0ce",
   "metadata": {
    "id": "8OGVJ_lSkm7B"
   },
   "source": [
    "Notar que hubiera podido escribir pc como una lista de los valores en donde quiero ubicar los polos a lazo cerrado. Sin embargo, luego no hubiera podido haer la operación de `pc*3` sobre la lista, ya que hubiera resultado en algo que no es lo que buscabamos."
   ]
  },
  {
   "cell_type": "markdown",
   "id": "0e71102d",
   "metadata": {
    "id": "SP7jOTRlkUbR"
   },
   "source": [
    "**Obtenemos la ley de control:**"
   ]
  },
  {
   "cell_type": "code",
   "execution_count": null,
   "id": "a187348f",
   "metadata": {
    "executionInfo": {
     "elapsed": 185,
     "status": "ok",
     "timestamp": 1601066361919,
     "user": {
      "displayName": "gonzalo molina",
      "photoUrl": "",
      "userId": "03146719216223860883"
     },
     "user_tz": 180
    },
    "id": "pjrTFXo9kUbS"
   },
   "outputs": [],
   "source": [
    "K=ctrl.place(sys.A,sys.B,pc)"
   ]
  },
  {
   "cell_type": "markdown",
   "id": "d4a874c9",
   "metadata": {
    "id": "_aZofBISlFoy"
   },
   "source": [
    "**Obtenemos L del estimador:**"
   ]
  },
  {
   "cell_type": "code",
   "execution_count": null,
   "id": "c48f1bf8",
   "metadata": {
    "executionInfo": {
     "elapsed": 188,
     "status": "ok",
     "timestamp": 1601065412554,
     "user": {
      "displayName": "gonzalo molina",
      "photoUrl": "",
      "userId": "03146719216223860883"
     },
     "user_tz": 180
    },
    "id": "GPR3nSm0kUbX"
   },
   "outputs": [],
   "source": [
    "L=ctrl.place(sys.A.T,sys.C.T,pe).T"
   ]
  },
  {
   "cell_type": "markdown",
   "id": "1488b8d1",
   "metadata": {
    "id": "NwtaA4allMzr"
   },
   "source": [
    "Hemos podido utilizar el comando `place` debido a que los 3 polos tanto del estimador como de los elegidos para la ley de control son distintos. De haber querido ubicar dos polos en el mismo lugar, hubieramos tenido que usar el comando `acker`.\n",
    "\n",
    "Sin mebargo es necesario tener en cuenta que `acker` no es recomendable para sistema de orden mayor a 4."
   ]
  },
  {
   "cell_type": "markdown",
   "id": "2bc16e8b",
   "metadata": {
    "id": "DJzcLBX2ts3Q"
   },
   "source": [
    "### Sistema controlador con estimador completo"
   ]
  },
  {
   "cell_type": "code",
   "execution_count": null,
   "id": "df6afff3",
   "metadata": {
    "colab": {
     "base_uri": "https://localhost:8080/",
     "height": 42
    },
    "executionInfo": {
     "elapsed": 131,
     "status": "ok",
     "timestamp": 1601061624537,
     "user": {
      "displayName": "gonzalo molina",
      "photoUrl": "",
      "userId": "03146719216223860883"
     },
     "user_tz": 180
    },
    "id": "5lR6YIv-kUbc",
    "outputId": "85f7f6f9-fda0-466c-ef06-6597bb582219"
   },
   "outputs": [],
   "source": [
    "Dc=ctrl.ss(sys.A-sys.B@K-L@sys.C,L,-K,0)\n",
    "ctrl.tf(Dc)\n",
    "ctrl.isctime(Dc)"
   ]
  },
  {
   "cell_type": "code",
   "execution_count": null,
   "id": "a5ed064e",
   "metadata": {
    "colab": {
     "base_uri": "https://localhost:8080/",
     "height": 52
    },
    "executionInfo": {
     "elapsed": 136,
     "status": "ok",
     "timestamp": 1601061625093,
     "user": {
      "displayName": "gonzalo molina",
      "photoUrl": "",
      "userId": "03146719216223860883"
     },
     "user_tz": 180
    },
    "id": "mMFVg9BWkUbg",
    "outputId": "0c4c2657-0fe8-4e83-c259-f81ce4c42894"
   },
   "outputs": [],
   "source": [
    "Dc.pole()"
   ]
  },
  {
   "cell_type": "markdown",
   "id": "f23d5cf2",
   "metadata": {
    "id": "BT_0CPLakUbl"
   },
   "source": [
    "Podemos ver que el controlador diseñado es inestable!. Esto no es deseable.\n",
    "\n",
    "La razones por la que no es deseable un controlador inestable  son:\n",
    "\n",
    "1. Presenta dificultades para ser testeado, ya sea el compensador por si solo o en lazo abierto durante la puesta en funcionamiento. Sin embargo, en agunos casos, se puede lograr una mejor performance del sistema de controlado con un controlador inestable (hay casos de sistemas que ni siquiera pueden ser estabilizados con controladores estables.). En ese caso se aceptan estos incevenientes de testeo.\n",
    "\n",
    "2. Para ganancias bajas el sistema a lazo cerrado con un controlador inestable resulta inestable (visulizar el root locus). En general, los actuadores prensetan saturaciones, es decir valor máximos de actuación. Cuando un actuador satura se ve desde el punto de vista de lazo como una reducción de la ganancia, llevando a la zona instable o acercandose a la misma.\n",
    "\n",
    "Los sistemas que necesitan se vuelven inestables cuando su valor ganancia se reduce se los conoce como sistemas **condicionalmente estables** y **deben ser evitados** en la medida de lo posible."
   ]
  },
  {
   "cell_type": "markdown",
   "id": "01097908",
   "metadata": {
    "id": "jXC7vMdZkUbm"
   },
   "source": [
    "## Rediseñamos usando un estimador reducido"
   ]
  },
  {
   "cell_type": "markdown",
   "id": "3f4bb11e",
   "metadata": {
    "id": "aJgzB1tWkUbn"
   },
   "source": [
    "Ahora pondremos los polos tal que $\\omega_n=6$ rad/seg y $\\zeta=0.707$"
   ]
  },
  {
   "cell_type": "code",
   "execution_count": null,
   "id": "4eac9535",
   "metadata": {
    "colab": {
     "base_uri": "https://localhost:8080/",
     "height": 35
    },
    "executionInfo": {
     "elapsed": 130,
     "status": "ok",
     "timestamp": 1601061628113,
     "user": {
      "displayName": "gonzalo molina",
      "photoUrl": "",
      "userId": "03146719216223860883"
     },
     "user_tz": 180
    },
    "id": "S9ZlG-0OkUbn",
    "outputId": "b2469ee9-7d3d-406c-92b6-33a0e7d0789d"
   },
   "outputs": [],
   "source": [
    "pe_red= np.roots([1,2*0.707*6,6**2])\n",
    "pe_red"
   ]
  },
  {
   "cell_type": "markdown",
   "id": "a2a062e1",
   "metadata": {
    "id": "z6M7qlpOkUbr"
   },
   "source": [
    "Necesitamos las sub-matrices de A para calcular el estimadore reducido"
   ]
  },
  {
   "cell_type": "code",
   "execution_count": null,
   "id": "e531d1d9",
   "metadata": {
    "executionInfo": {
     "elapsed": 117,
     "status": "ok",
     "timestamp": 1601061628598,
     "user": {
      "displayName": "gonzalo molina",
      "photoUrl": "",
      "userId": "03146719216223860883"
     },
     "user_tz": 180
    },
    "id": "6CVGVGS6kUbs"
   },
   "outputs": [],
   "source": [
    "Aaa=sys.A[0:1,0:1]\n",
    "Aab=sys.A[0:1,1:]\n",
    "Aba=sys.A[1:,0:1]\n",
    "Abb=sys.A[1:,1:]\n",
    "\n",
    "Ba = sys.B[0:1,0]\n",
    "Bb = sys.B[1:,0]"
   ]
  },
  {
   "cell_type": "code",
   "execution_count": null,
   "id": "d98ed8eb",
   "metadata": {
    "colab": {
     "base_uri": "https://localhost:8080/",
     "height": 35
    },
    "executionInfo": {
     "elapsed": 133,
     "status": "ok",
     "timestamp": 1601061628836,
     "user": {
      "displayName": "gonzalo molina",
      "photoUrl": "",
      "userId": "03146719216223860883"
     },
     "user_tz": 180
    },
    "id": "mmSW8nkCkUbx",
    "outputId": "5a7dcf36-275e-4771-b074-522bbf626649"
   },
   "outputs": [],
   "source": [
    "Aaa"
   ]
  },
  {
   "cell_type": "code",
   "execution_count": null,
   "id": "2bbe7719",
   "metadata": {
    "colab": {
     "base_uri": "https://localhost:8080/",
     "height": 52
    },
    "executionInfo": {
     "elapsed": 156,
     "status": "ok",
     "timestamp": 1601061629103,
     "user": {
      "displayName": "gonzalo molina",
      "photoUrl": "",
      "userId": "03146719216223860883"
     },
     "user_tz": 180
    },
    "id": "Z36Jm24IkUb2",
    "outputId": "cda74b08-a168-49f5-a932-00ab15d775dc"
   },
   "outputs": [],
   "source": [
    "Ltred = ctrl.place(Abb.T,Aab.T,pe_red).T\n",
    "Ltred"
   ]
  },
  {
   "cell_type": "markdown",
   "id": "b1ea6448",
   "metadata": {
    "id": "IGZLjmdptkmN"
   },
   "source": [
    "### Sistema controlador con estimador reducido"
   ]
  },
  {
   "cell_type": "code",
   "execution_count": null,
   "id": "57b15495",
   "metadata": {
    "executionInfo": {
     "elapsed": 117,
     "status": "ok",
     "timestamp": 1601061631996,
     "user": {
      "displayName": "gonzalo molina",
      "photoUrl": "",
      "userId": "03146719216223860883"
     },
     "user_tz": 180
    },
    "id": "tNixGvOhkUb6"
   },
   "outputs": [],
   "source": [
    "Ka=K[0,0:1]\n",
    "Kb=K[0,1:]\n",
    "\n",
    "Ar = Abb-Ltred@Aab-(Bb-Ltred@Ba)@Kb\n",
    "Br = Ar@Ltred + Aba - Ltred@Aaa - (Bb-Ltred@Ba)@Ka\n",
    "Cr = -Kb\n",
    "Dr = -Ka-Kb@Ltred"
   ]
  },
  {
   "cell_type": "code",
   "execution_count": null,
   "id": "f4014e52",
   "metadata": {
    "colab": {
     "base_uri": "https://localhost:8080/",
     "height": 173
    },
    "executionInfo": {
     "elapsed": 140,
     "status": "ok",
     "timestamp": 1601061632459,
     "user": {
      "displayName": "gonzalo molina",
      "photoUrl": "",
      "userId": "03146719216223860883"
     },
     "user_tz": 180
    },
    "id": "wtwYI1g9kUb9",
    "outputId": "f695be77-cf4f-408c-a46c-79e2642a9457"
   },
   "outputs": [],
   "source": [
    "Dcr = ctrl.ss(Ar,Br,Cr,Dr)\n",
    "Dcr"
   ]
  },
  {
   "cell_type": "code",
   "execution_count": null,
   "id": "baae7bc0",
   "metadata": {
    "colab": {
     "base_uri": "https://localhost:8080/",
     "height": 42
    },
    "executionInfo": {
     "elapsed": 136,
     "status": "ok",
     "timestamp": 1601061632844,
     "user": {
      "displayName": "gonzalo molina",
      "photoUrl": "",
      "userId": "03146719216223860883"
     },
     "user_tz": 180
    },
    "id": "S5Z2SrB8kUcC",
    "outputId": "f5bc166e-9092-4279-bd93-2d7ba06d0a01"
   },
   "outputs": [],
   "source": [
    "ctrl.tf(Dcr)"
   ]
  },
  {
   "cell_type": "code",
   "execution_count": null,
   "id": "80725295",
   "metadata": {
    "colab": {
     "base_uri": "https://localhost:8080/",
     "height": 35
    },
    "executionInfo": {
     "elapsed": 141,
     "status": "ok",
     "timestamp": 1601061633790,
     "user": {
      "displayName": "gonzalo molina",
      "photoUrl": "",
      "userId": "03146719216223860883"
     },
     "user_tz": 180
    },
    "id": "yxH8ZsnFkUcG",
    "outputId": "cc4ec476-9c82-40ca-92eb-88f7ec955f2d"
   },
   "outputs": [],
   "source": [
    "Dcr.pole()"
   ]
  },
  {
   "cell_type": "code",
   "execution_count": null,
   "id": "96ba65f5",
   "metadata": {
    "colab": {
     "base_uri": "https://localhost:8080/",
     "height": 35
    },
    "executionInfo": {
     "elapsed": 159,
     "status": "ok",
     "timestamp": 1601061634482,
     "user": {
      "displayName": "gonzalo molina",
      "photoUrl": "",
      "userId": "03146719216223860883"
     },
     "user_tz": 180
    },
    "id": "BWeAryLBkUcL",
    "outputId": "c0c31b1b-1b5d-4ed1-a459-9e52349f340d"
   },
   "outputs": [],
   "source": [
    "Dcr.zero()"
   ]
  },
  {
   "cell_type": "markdown",
   "id": "394d8b80",
   "metadata": {
    "id": "gIvbVSEfkUcP"
   },
   "source": [
    "Si bien este diseño mejoró al anterior ya que el controlador resultante es estable, este presenta un problema potencialmente menos danino. El problema es que es un controlador de no mínima fase, ya que tiene un 0 en el lado derecho del plano $s$, limitando la velocidad del sistema controlado."
   ]
  },
  {
   "cell_type": "code",
   "execution_count": null,
   "id": "d520d855",
   "metadata": {},
   "outputs": [],
   "source": [
    "L=-ctrl.tf(Dcr)*G/ctrl.db2mag(6)\n",
    "ctrl.bode(L,dB=True, margins=True, omega_num=2000);\n",
    "plt.gcf().set_size_inches(12,8)"
   ]
  },
  {
   "cell_type": "code",
   "execution_count": null,
   "id": "ae5c5532",
   "metadata": {},
   "outputs": [],
   "source": [
    "T=ctrl.feedback(L)\n",
    "plt.figure()\n",
    "ctrl.bode(T,dB=True);\n",
    "plt.gcf().set_size_inches(12,8)"
   ]
  },
  {
   "cell_type": "code",
   "execution_count": null,
   "id": "7d1afabc",
   "metadata": {
    "tags": [
     "remove-cell"
    ]
   },
   "outputs": [],
   "source": [
    "ctrl.gangof4_plot(G,-ctrl.tf(Dcr))\n",
    "ctrl.gangof4_plot(ctrl.tf(1,[1,0]),ctrl.tf(1,1))\n",
    "plt.gcf().set_size_inches(12,12)"
   ]
  },
  {
   "cell_type": "code",
   "execution_count": null,
   "id": "55a48277",
   "metadata": {},
   "outputs": [],
   "source": [
    "_=ctrl.nyquist(L);\n",
    "plt.gcf().set_size_inches(8,6)"
   ]
  },
  {
   "cell_type": "markdown",
   "id": "fcae6de9",
   "metadata": {
    "id": "-VJrPFw1otAC"
   },
   "source": [
    "Agragamos referencia al controlador de orden reducido."
   ]
  },
  {
   "cell_type": "code",
   "execution_count": null,
   "id": "bb24c48d",
   "metadata": {
    "executionInfo": {
     "elapsed": 126,
     "status": "ok",
     "timestamp": 1601061639833,
     "user": {
      "displayName": "gonzalo molina",
      "photoUrl": "",
      "userId": "03146719216223860883"
     },
     "user_tz": 180
    },
    "id": "nWB3yyE1tI-h"
   },
   "outputs": [],
   "source": [
    "def seguimiento_referencia(sys):\n",
    "    aux1=np.vstack((np.hstack((sys.A,sys.B)),\n",
    "                   np.hstack((sys.C,sys.D))))\n",
    "    n=np.shape(sys.A)[0]\n",
    "    aux2=np.vstack((np.zeros((n,1)),[1]))\n",
    "    N=np.linalg.inv(aux1)@aux2\n",
    "    Nx=N[0:n]\n",
    "    Nu=N[n]\n",
    "    return Nx, Nu\n",
    "\n",
    "def calculate_Nbar(Nx,Nu,K):\n",
    "    return Nu+K@Nx"
   ]
  },
  {
   "cell_type": "code",
   "execution_count": null,
   "id": "6213270b",
   "metadata": {
    "executionInfo": {
     "elapsed": 90,
     "status": "ok",
     "timestamp": 1601061756872,
     "user": {
      "displayName": "gonzalo molina",
      "photoUrl": "",
      "userId": "03146719216223860883"
     },
     "user_tz": 180
    },
    "id": "aCnx2Ms-txcs"
   },
   "outputs": [],
   "source": [
    "Nx, Nu = seguimiento_referencia(sys)\n",
    "Nbar = calculate_Nbar(Nx,Nu, K)\n",
    "Nbar"
   ]
  },
  {
   "cell_type": "code",
   "execution_count": null,
   "id": "b0ea6bd5",
   "metadata": {
    "colab": {
     "base_uri": "https://localhost:8080/",
     "height": 52
    },
    "executionInfo": {
     "elapsed": 122,
     "status": "ok",
     "timestamp": 1601061815774,
     "user": {
      "displayName": "gonzalo molina",
      "photoUrl": "",
      "userId": "03146719216223860883"
     },
     "user_tz": 180
    },
    "id": "-8Cw7a7kpBCO",
    "outputId": "5c1578d4-0f36-4429-9d91-cf3357ed7466"
   },
   "outputs": [],
   "source": [
    "N=Nbar # Lo vemos mañana como se saca\n",
    "M=(Bb-Ltred@Ba)*N\n",
    "M"
   ]
  },
  {
   "cell_type": "code",
   "execution_count": null,
   "id": "06b61146",
   "metadata": {
    "colab": {
     "base_uri": "https://localhost:8080/",
     "height": 173
    },
    "executionInfo": {
     "elapsed": 141,
     "status": "ok",
     "timestamp": 1601061915405,
     "user": {
      "displayName": "gonzalo molina",
      "photoUrl": "",
      "userId": "03146719216223860883"
     },
     "user_tz": 180
    },
    "id": "hsA8clZSphT_",
    "outputId": "c55eef74-0298-499e-875a-2959d7e831f6"
   },
   "outputs": [],
   "source": [
    "Dcr_ref = ctrl.ss(Ar, np.hstack((Br,M)), Cr, np.hstack((Dr,N)))\n",
    "Dcr_ref"
   ]
  },
  {
   "cell_type": "markdown",
   "id": "25957451",
   "metadata": {
    "id": "xnlYaJRykUcQ"
   },
   "source": [
    "## Rediseño usando SRL"
   ]
  },
  {
   "cell_type": "markdown",
   "id": "7b23da7e",
   "metadata": {
    "id": "kNU5MoqzkUcQ"
   },
   "source": [
    "Vamos a diseñar el sistema para ubicar los polos de forma tal que se tenga un ancho de banda de 2.5rad/seg y que los polos del estimador esten aproximadamiente 2.5 veces más raṕido."
   ]
  },
  {
   "cell_type": "markdown",
   "id": "33f82c07",
   "metadata": {
    "id": "bnQk1tCekUcR"
   },
   "source": [
    "Para usar SRL vamos a tomat que $\\mathbf{C} = \\mathbf{C_1}$ y que $\\mathbf{B} = \\mathbf{B_1}$"
   ]
  },
  {
   "cell_type": "code",
   "execution_count": null,
   "id": "2c05467c",
   "metadata": {
    "id": "6I-HAPcYkUcR"
   },
   "outputs": [],
   "source": [
    "def conjugate_tf(G):\n",
    "    num = ctrl.tf(G).num[0][0]\n",
    "    den = ctrl.tf(G).den[0][0]\n",
    "    nume = [num[i]*((-1)**(len(num)%2+1-i)) for i in range(0, len(num))]\n",
    "    dene = [den[i]*((-1)**(len(den)%2+1-i)) for i in range(0, len(den))]\n",
    "    return ctrl.tf(nume,dene)"
   ]
  },
  {
   "cell_type": "code",
   "execution_count": null,
   "id": "b7ebc567",
   "metadata": {
    "colab": {
     "base_uri": "https://localhost:8080/",
     "height": 39
    },
    "executionInfo": {
     "elapsed": 91,
     "status": "ok",
     "timestamp": 1600975647827,
     "user": {
      "displayName": "gonzalo molina",
      "photoUrl": "",
      "userId": "03146719216223860883"
     },
     "user_tz": 180
    },
    "id": "sp9MJld-shkt",
    "outputId": "1b55d12a-8c3d-4159-cc62-fc7a064e94f7"
   },
   "outputs": [],
   "source": [
    "Gm=conjugate_tf(G)\n",
    "Gm"
   ]
  },
  {
   "cell_type": "code",
   "execution_count": null,
   "id": "fd4206c8",
   "metadata": {
    "id": "UYbi7FCnkUcV"
   },
   "outputs": [],
   "source": [
    "_=ctrl.rlocus(G*Gm)\n",
    "plt.gcf().set_size_inches(8,6)"
   ]
  },
  {
   "cell_type": "markdown",
   "id": "7ac3064a",
   "metadata": {
    "id": "27hDxbKRkUcY"
   },
   "source": [
    "Con $K=26$ obtenemos los polos con una frecuenca de corte de 2.5 rad/seg."
   ]
  },
  {
   "cell_type": "code",
   "execution_count": null,
   "id": "3c280a87",
   "metadata": {
    "colab": {
     "base_uri": "https://localhost:8080/",
     "height": 52
    },
    "executionInfo": {
     "elapsed": 97,
     "status": "ok",
     "timestamp": 1600975661115,
     "user": {
      "displayName": "gonzalo molina",
      "photoUrl": "",
      "userId": "03146719216223860883"
     },
     "user_tz": 180
    },
    "id": "ZrxfY0bwkUcZ",
    "outputId": "0594025a-2d54-4c23-b92e-fc26b48c8fa2"
   },
   "outputs": [],
   "source": [
    "pc,_=ctrl.rlocus(G*conjugate_tf(G),kvect=[26],Plot=False)\n",
    "pc = pc[pc.real<0]\n",
    "pc"
   ]
  },
  {
   "cell_type": "markdown",
   "id": "069f3e40",
   "metadata": {
    "id": "UIqZ2COCkUcc"
   },
   "source": [
    "Y con K=1350 tenemos los polos del estimador."
   ]
  },
  {
   "cell_type": "code",
   "execution_count": null,
   "id": "eb596d66",
   "metadata": {
    "colab": {
     "base_uri": "https://localhost:8080/",
     "height": 52
    },
    "executionInfo": {
     "elapsed": 129,
     "status": "ok",
     "timestamp": 1600975662387,
     "user": {
      "displayName": "gonzalo molina",
      "photoUrl": "",
      "userId": "03146719216223860883"
     },
     "user_tz": 180
    },
    "id": "GpVx_qsBkUcd",
    "outputId": "49af759f-1117-49f8-cf15-d9981db1203b"
   },
   "outputs": [],
   "source": [
    "pe,_=ctrl.rlocus(G*conjugate_tf(G),kvect=[1350],Plot=False)\n",
    "pe = pe[pe.real<0]\n",
    "pe"
   ]
  },
  {
   "cell_type": "code",
   "execution_count": null,
   "id": "58925beb",
   "metadata": {
    "colab": {
     "base_uri": "https://localhost:8080/",
     "height": 72
    },
    "executionInfo": {
     "elapsed": 106,
     "status": "ok",
     "timestamp": 1600975663050,
     "user": {
      "displayName": "gonzalo molina",
      "photoUrl": "",
      "userId": "03146719216223860883"
     },
     "user_tz": 180
    },
    "id": "ZAU6vH6NkUcg",
    "outputId": "4525f9f1-f306-4ee6-d738-7119db8cce4a"
   },
   "outputs": [],
   "source": [
    "print(\"Polos de la ley de control: \",pc)\n",
    "print(\"Polos del estimador: \",pe)"
   ]
  },
  {
   "cell_type": "code",
   "execution_count": null,
   "id": "717c9074",
   "metadata": {
    "id": "yJRkFBptkUck"
   },
   "outputs": [],
   "source": [
    "K=ctrl.place(sys.A,sys.B,pc)\n",
    "L=ctrl.place(sys.A.T,sys.C.T,pe).T"
   ]
  },
  {
   "cell_type": "code",
   "execution_count": null,
   "id": "a6069bff",
   "metadata": {
    "colab": {
     "base_uri": "https://localhost:8080/",
     "height": 41
    },
    "executionInfo": {
     "elapsed": 85,
     "status": "ok",
     "timestamp": 1600975664779,
     "user": {
      "displayName": "gonzalo molina",
      "photoUrl": "",
      "userId": "03146719216223860883"
     },
     "user_tz": 180
    },
    "id": "Qtb9laB3kUcp",
    "outputId": "069faced-0c1a-401b-d8f9-207e2e6de38f"
   },
   "outputs": [],
   "source": [
    "Dcsrl=ctrl.ss(sys.A-sys.B@K-L@sys.C,L,-K,0)\n",
    "ctrl.tf(Dcsrl)"
   ]
  },
  {
   "cell_type": "code",
   "execution_count": null,
   "id": "ae6169b7",
   "metadata": {
    "colab": {
     "base_uri": "https://localhost:8080/",
     "height": 52
    },
    "executionInfo": {
     "elapsed": 81,
     "status": "ok",
     "timestamp": 1600975669015,
     "user": {
      "displayName": "gonzalo molina",
      "photoUrl": "",
      "userId": "03146719216223860883"
     },
     "user_tz": 180
    },
    "id": "tMLrdU2ZkUct",
    "outputId": "f6dd59e2-bc77-4f78-a2ed-204b8310bdbf"
   },
   "outputs": [],
   "source": [
    "Dcsrl.pole()"
   ]
  },
  {
   "cell_type": "code",
   "execution_count": null,
   "id": "5da0e833",
   "metadata": {
    "colab": {
     "base_uri": "https://localhost:8080/",
     "height": 35
    },
    "executionInfo": {
     "elapsed": 76,
     "status": "ok",
     "timestamp": 1600975670237,
     "user": {
      "displayName": "gonzalo molina",
      "photoUrl": "",
      "userId": "03146719216223860883"
     },
     "user_tz": 180
    },
    "id": "7GvVnY4RkUcx",
    "outputId": "d8ceb104-e231-4181-f283-9b6f2515b2a2"
   },
   "outputs": [],
   "source": [
    "Dcsrl.zero()"
   ]
  },
  {
   "cell_type": "code",
   "execution_count": null,
   "id": "a1809e39",
   "metadata": {
    "id": "IuQl5nJwkUc0"
   },
   "outputs": [],
   "source": [
    "_=ctrl.bode((-sys*Dc,-sys*Dcr,-sys*Dcsrl),omega_limits=(1e-2,1e2),dB=True)\n",
    "plt.gcf().set_size_inches(12,8)"
   ]
  },
  {
   "cell_type": "code",
   "execution_count": null,
   "id": "e47dae5a",
   "metadata": {
    "colab": {
     "base_uri": "https://localhost:8080/",
     "height": 69
    },
    "executionInfo": {
     "elapsed": 97,
     "status": "ok",
     "timestamp": 1600975672255,
     "user": {
      "displayName": "gonzalo molina",
      "photoUrl": "",
      "userId": "03146719216223860883"
     },
     "user_tz": 180
    },
    "id": "IpTdYQNykUc4",
    "outputId": "ec4135e0-4f1a-401e-f641-7d26efee4c13"
   },
   "outputs": [],
   "source": [
    "print(ctrl.margin(-sys*Dc))\n",
    "print(ctrl.margin(-sys*Dcr))\n",
    "print(ctrl.margin(-sys*Dcsrl))"
   ]
  },
  {
   "cell_type": "code",
   "execution_count": null,
   "id": "a42fc351",
   "metadata": {
    "id": "UtrD_mUEkUc8"
   },
   "outputs": [],
   "source": [
    "T1=ctrl.feedback(-sys*Dc)\n",
    "T2=ctrl.feedback(-sys*Dcr)\n",
    "T3=ctrl.feedback(-sys*Dcsrl)"
   ]
  },
  {
   "cell_type": "code",
   "execution_count": null,
   "id": "afaf868e",
   "metadata": {
    "colab": {
     "base_uri": "https://localhost:8080/",
     "height": 104
    },
    "executionInfo": {
     "elapsed": 113,
     "status": "ok",
     "timestamp": 1600975921642,
     "user": {
      "displayName": "gonzalo molina",
      "photoUrl": "",
      "userId": "03146719216223860883"
     },
     "user_tz": 180
    },
    "id": "ZASkbVMSuHrt",
    "outputId": "c6883ac8-0846-4e93-fe55-d26bbac04bdb"
   },
   "outputs": [],
   "source": [
    "print(f\"Los polos de T1 son: {T1.pole()}\")\n",
    "print(f\"Los polos de T2 son: {T2.pole()}\")\n",
    "print(f\"Los polos de T3 son: {T3.pole()}\")"
   ]
  },
  {
   "cell_type": "markdown",
   "id": "43f64dda",
   "metadata": {
    "id": "OOewQwPNvU2S"
   },
   "source": [
    "### Respuesta al escalón del sistema \"controlado\" (a partir de una salida distinta de 0)"
   ]
  },
  {
   "cell_type": "code",
   "execution_count": null,
   "id": "0fc1b73f",
   "metadata": {
    "id": "2XXJ3s_wuGbN"
   },
   "outputs": [],
   "source": [
    "t1,y1 = ctrl.initial_response(T1, X0=np.matrix([0,0,0,-1,0,0]).T,T=np.linspace(0,5,1000))\n",
    "t2,y2 = ctrl.initial_response(T2, X0=np.matrix([0,0,-1,0,0]).T,T=np.linspace(0,5,1000))\n",
    "t3,y3 = ctrl.initial_response(T3, X0=np.matrix([0,0,0,-1,0,0]).T,T=np.linspace(0,5,1000))"
   ]
  },
  {
   "cell_type": "code",
   "execution_count": null,
   "id": "98cc56c8",
   "metadata": {
    "colab": {
     "base_uri": "https://localhost:8080/",
     "height": 430
    },
    "executionInfo": {
     "elapsed": 356,
     "status": "ok",
     "timestamp": 1600975942871,
     "user": {
      "displayName": "gonzalo molina",
      "photoUrl": "",
      "userId": "03146719216223860883"
     },
     "user_tz": 180
    },
    "id": "-kfJ70e2kUc_",
    "outputId": "7f830759-1289-4692-b796-5156d89b9c5b",
    "tags": [
     "hide-input"
    ]
   },
   "outputs": [],
   "source": [
    "fig, ax = plt.subplots(figsize=(12,4))\n",
    "ax.plot(t1,y1,label=\"T1\")\n",
    "ax.plot(t2,y2,label=\"T2\")\n",
    "ax.plot(t3,y3,label=\"T3\")\n",
    "plt.legend()\n",
    "ax.set_title('Respuesta a condiciones iniciales')\n",
    "ax.set_xlabel(\"Tiempo\")\n",
    "ax.set_ylabel(\"Salida\")\n",
    "ax.grid()"
   ]
  },
  {
   "cell_type": "markdown",
   "id": "868b61ae",
   "metadata": {
    "id": "b85hR1QlyvH2"
   },
   "source": [
    "## Conxión de sistemas entrada/salida"
   ]
  },
  {
   "cell_type": "markdown",
   "id": "8101a1e4",
   "metadata": {
    "id": "r-5qTqXZy75T"
   },
   "source": [
    "Podemos ver en el caso anterior que mediante el uso de la función ctrl.feedback hemos perdido, al menos parcialmente, saber de que manera estan ordenados los estados del sistema.\n",
    "\n",
    "Par aun mayor control de como están ubicados los eatados, las entradas y la salidas es conveniente usar la función `ctrl.append` y `ctrl.connect`."
   ]
  },
  {
   "cell_type": "code",
   "execution_count": null,
   "id": "90348738",
   "metadata": {
    "id": "cWT1nwst7qSH",
    "tags": [
     "hide-output"
    ]
   },
   "outputs": [],
   "source": [
    "ctrl.connect?"
   ]
  },
  {
   "cell_type": "code",
   "execution_count": null,
   "id": "671b5869",
   "metadata": {
    "colab": {
     "base_uri": "https://localhost:8080/",
     "height": 243
    },
    "executionInfo": {
     "elapsed": 91,
     "status": "ok",
     "timestamp": 1600976148231,
     "user": {
      "displayName": "gonzalo molina",
      "photoUrl": "",
      "userId": "03146719216223860883"
     },
     "user_tz": 180
    },
    "id": "0p5DCavSL3kk",
    "outputId": "51d752d1-cca9-45c9-9900-491a2cc97897"
   },
   "outputs": [],
   "source": [
    "sys_conectado_1 = ctrl.connect(ctrl.append(sys,Dc),\n",
    "                               [[1,2],[2,1]],[1],[1,2])\n",
    "sys_conectado_1"
   ]
  },
  {
   "cell_type": "code",
   "execution_count": null,
   "id": "db86d575",
   "metadata": {
    "colab": {
     "base_uri": "https://localhost:8080/",
     "height": 225
    },
    "executionInfo": {
     "elapsed": 84,
     "status": "ok",
     "timestamp": 1600976174487,
     "user": {
      "displayName": "gonzalo molina",
      "photoUrl": "",
      "userId": "03146719216223860883"
     },
     "user_tz": 180
    },
    "id": "0_vRmFzT1Kaj",
    "outputId": "5097e786-b0b5-458f-dc64-18bbe686160e"
   },
   "outputs": [],
   "source": [
    "sys_conectado_2 = ctrl.connect(ctrl.append(sys,Dcr),[[1,2],[2,1]],[1],[1,2])\n",
    "sys_conectado_2"
   ]
  },
  {
   "cell_type": "code",
   "execution_count": null,
   "id": "5dfbaa7e",
   "metadata": {
    "colab": {
     "base_uri": "https://localhost:8080/",
     "height": 347
    },
    "executionInfo": {
     "elapsed": 84,
     "status": "ok",
     "timestamp": 1600976189652,
     "user": {
      "displayName": "gonzalo molina",
      "photoUrl": "",
      "userId": "03146719216223860883"
     },
     "user_tz": 180
    },
    "id": "RG6KpNo71fMO",
    "outputId": "8cf148f1-17e1-4ccd-c784-1335e1fcede1"
   },
   "outputs": [],
   "source": [
    "sys_conectado_3 = ctrl.connect(ctrl.append(sys, Dcsrl), [[1,2], [2,1]], [1], [1,2])\n",
    "sys_conectado_3"
   ]
  },
  {
   "cell_type": "markdown",
   "id": "84069d4f",
   "metadata": {
    "id": "7GGfr40J6aWe"
   },
   "source": [
    "La manera en que `ctrl.connect` trabaja es:\n",
    "\n",
    "1. El primer argumento es un sistema de muchas entradas y muchas salidas que se tienen que interconectar. Para esto, agrupamos todos los sistemas que queremos interconectar mediante la función `ctrl.append`. Esta función nos va a devolver un único sistema en general de muchas entradas y muchas salidas.\n",
    "\n",
    "2. El segundo argumento es una matriz de interconexión, donde cada fila nos dice que entrada se conecta con que salida. Las entradas y las salidas quedan ordenadas según el orden que hayamos puesto en la función `ctrl.append`, y están númeradas a partir de 1.\n",
    "\n",
    "3. El tercer argumento, nos dice que entradas van a ser tomadas como entradas del sistema.\n",
    "\n",
    "4. El cuarto y último argumento son las salidas del sistema."
   ]
  },
  {
   "cell_type": "markdown",
   "id": "519259ed",
   "metadata": {
    "id": "ka77Rz1x8CVa"
   },
   "source": [
    "Revisemos la utilización de `ctrl.connect` en nuetro ejemplo:\n",
    "\n",
    "1. El primer argumento es un sistema construído a partir de `ctrl.append` que incluye a `sys` (la planta que queremos controlar) y a `Dc` (el controlador). Esta función nos va a devoler un sistema cuyos primeros 3 estados serán los estados de `sys` y los restantes son los del observador; tendrá dos donde la primer entrada es la de `sys` y la segunda entrada es la de `Dc`; y la primer salida es la de `sys` y la segunda salida es la de `Dc`.\n",
    "\n",
    "2. El segundo argumento es la matriz de interconexión. Primero conecto la entrada de `sys` con la salida de `Dc`. Como `sys` en `ctrl.append` está primero, la entrada 1 corresponde a la de `sys` y la salida 2 corresponde a la salida de `Dc`. De esta manera tenemos la primer fila de `Q`. La segunda fila de `Q` conecta la entrada de `Dc` con la salida de `sys`.\n",
    "\n",
    "3. El sistema que estamos generando no tiene entradas, pero el módulo de control tiene algunos problemas en sistemas que notienen entradas o que no tiene salidas, por eso el tercer argumento vamos a poner [1], que significa una entrada que se sumará a la salida de `Dc` en la entrada de `sys`.\n",
    "\n",
    "4. El último argumento son las salidas. Voy a tomar como salidas de mi sistema el esfuerzo de control, es decir la salida del sistema `Dc`, y la salida de la planta, es decir la salida de `sys`."
   ]
  },
  {
   "cell_type": "markdown",
   "id": "e1dfcfd1",
   "metadata": {
    "id": "qzLJto6U_Opj"
   },
   "source": [
    "Vamos a realizar nuevamente las simulaciones con los sistemas definidos mediante el connect."
   ]
  },
  {
   "cell_type": "code",
   "execution_count": null,
   "id": "6aa8b8c1",
   "metadata": {
    "colab": {
     "base_uri": "https://localhost:8080/",
     "height": 703
    },
    "executionInfo": {
     "elapsed": 110,
     "status": "error",
     "timestamp": 1600976196686,
     "user": {
      "displayName": "gonzalo molina",
      "photoUrl": "",
      "userId": "03146719216223860883"
     },
     "user_tz": 180
    },
    "id": "-Fm-3l-j1s86",
    "outputId": "1c9bd191-80df-45b8-ca77-2b83c14e7d81"
   },
   "outputs": [],
   "source": [
    "t1,y1 = ctrl.initial_response(sys_conectado_1, X0=np.matrix([1,0,0,0,0,0]).T,T=np.linspace(0,5,1000))\n",
    "t2,y2 = ctrl.initial_response(sys_conectado_2, X0=np.matrix([1,0,0,0,0]).T,T=np.linspace(0,5,1000))\n",
    "t3,y3 = ctrl.initial_response(sys_conectado_3, X0=np.matrix([1,0,0,0,0,0]).T,T=np.linspace(0,5,1000))"
   ]
  },
  {
   "cell_type": "code",
   "execution_count": null,
   "id": "3b912f82",
   "metadata": {
    "colab": {
     "base_uri": "https://localhost:8080/",
     "height": 703
    },
    "executionInfo": {
     "elapsed": 110,
     "status": "error",
     "timestamp": 1600976196686,
     "user": {
      "displayName": "gonzalo molina",
      "photoUrl": "",
      "userId": "03146719216223860883"
     },
     "user_tz": 180
    },
    "id": "-Fm-3l-j1s86",
    "outputId": "1c9bd191-80df-45b8-ca77-2b83c14e7d81"
   },
   "outputs": [],
   "source": [
    "fig, ax = plt.subplots(figsize=(12,4))\n",
    "ax.plot(t1,y1[0,:],label=\"sys conectado 1\")\n",
    "ax.plot(t2,y2[0,:],label=\"sys conectado 2\")\n",
    "ax.plot(t3,y3[0,:],label=\"sys conectado 3\")\n",
    "plt.legend()\n",
    "ax.set_title('Respuesta a condiciones iniciales')\n",
    "ax.set_xlabel(\"Tiempo\")\n",
    "ax.set_ylabel(\"Salida\")\n",
    "ax.grid()"
   ]
  },
  {
   "cell_type": "markdown",
   "id": "ed58c00e",
   "metadata": {
    "id": "224fcVeYO3Ya"
   },
   "source": [
    "Podemos también mirar el esfuerzo de control, ya que es salida de la planta."
   ]
  },
  {
   "cell_type": "code",
   "execution_count": null,
   "id": "11fad9cd",
   "metadata": {
    "colab": {
     "base_uri": "https://localhost:8080/",
     "height": 430
    },
    "executionInfo": {
     "elapsed": 466,
     "status": "ok",
     "timestamp": 1600885884174,
     "user": {
      "displayName": "gonzalo molina",
      "photoUrl": "",
      "userId": "03146719216223860883"
     },
     "user_tz": 180
    },
    "id": "_WxxKQsg_haz",
    "outputId": "2eb3b46e-547d-4106-c581-8f9595f2107e"
   },
   "outputs": [],
   "source": [
    "fig, ax = plt.subplots(figsize=(12,4))\n",
    "ax.plot(t1,y1[1,:],label=\"sys conectado 1\")\n",
    "ax.plot(t2,y2[1,:],label=\"sys conectado 2\")\n",
    "ax.plot(t3,y3[1,:],label=\"sys conectado 3\")\n",
    "plt.legend()\n",
    "ax.set_title('Respuesta a condiciones iniciales')\n",
    "ax.set_xlabel(\"Tiempo\")\n",
    "ax.set_ylabel(\"Esfuerzp de control\")\n",
    "ax.grid()"
   ]
  },
  {
   "cell_type": "markdown",
   "id": "ecd46ccd",
   "metadata": {
    "id": "4-G2F9KzPHeD"
   },
   "source": [
    "Este ejemplo muestra claramente como la elección de los polos usando cirterios de optimización como son los de lugar simétrico de las ráices nos da un control mucho mejor, tanto en tiempo de respuesta como en el esfuerzo de control."
   ]
  },
  {
   "cell_type": "code",
   "execution_count": null,
   "id": "30d39c03",
   "metadata": {
    "colab": {
     "base_uri": "https://localhost:8080/",
     "height": 52
    },
    "executionInfo": {
     "elapsed": 89,
     "status": "ok",
     "timestamp": 1601061963921,
     "user": {
      "displayName": "gonzalo molina",
      "photoUrl": "",
      "userId": "03146719216223860883"
     },
     "user_tz": 180
    },
    "id": "mUQ4gHl6PAK-",
    "outputId": "cf7f98c7-9e0d-444c-9045-424220b97616"
   },
   "outputs": [],
   "source": [
    "psys_controlado_con_ref = ctrl.connect(ctrl.append(sys,Dcr_ref), [[1, 2],[2,1]], [3], [1,2])\n",
    "psys_controlado_con_ref.pole()"
   ]
  },
  {
   "cell_type": "code",
   "execution_count": null,
   "id": "316ea373",
   "metadata": {
    "colab": {
     "base_uri": "https://localhost:8080/",
     "height": 35
    },
    "executionInfo": {
     "elapsed": 87,
     "status": "ok",
     "timestamp": 1601062068231,
     "user": {
      "displayName": "gonzalo molina",
      "photoUrl": "",
      "userId": "03146719216223860883"
     },
     "user_tz": 180
    },
    "id": "nroB82_4utfJ",
    "outputId": "6d7d49a6-3d4a-48e1-a442-996cc8f63705"
   },
   "outputs": [],
   "source": [
    "ctrl.dcgain(psys_controlado_con_ref)"
   ]
  },
  {
   "cell_type": "code",
   "execution_count": null,
   "id": "ce8502b3",
   "metadata": {
    "executionInfo": {
     "elapsed": 115,
     "status": "ok",
     "timestamp": 1601062019233,
     "user": {
      "displayName": "gonzalo molina",
      "photoUrl": "",
      "userId": "03146719216223860883"
     },
     "user_tz": 180
    },
    "id": "OCJ6-IvDqicE"
   },
   "outputs": [],
   "source": [
    "t,y = ctrl.step_response(psys_controlado_con_ref)"
   ]
  },
  {
   "cell_type": "code",
   "execution_count": null,
   "id": "6f511877",
   "metadata": {
    "colab": {
     "base_uri": "https://localhost:8080/",
     "height": 35
    },
    "executionInfo": {
     "elapsed": 117,
     "status": "ok",
     "timestamp": 1601062116626,
     "user": {
      "displayName": "gonzalo molina",
      "photoUrl": "",
      "userId": "03146719216223860883"
     },
     "user_tz": 180
    },
    "id": "3iImUh49uVgf",
    "outputId": "8da72d94-5f66-44d6-af35-e56f3a6ed380"
   },
   "outputs": [],
   "source": [
    "fig, ax = plt.subplots(figsize=(12,4))\n",
    "ax.plot(t,y[0,:],label=\"psys conectado con ref\")\n",
    "ax.set_title('Respuesta al escalón en la referencia')\n",
    "ax.set_xlabel(\"Tiempo\")\n",
    "ax.set_ylabel(\"Salida\")\n",
    "ax.grid()"
   ]
  },
  {
   "cell_type": "code",
   "execution_count": null,
   "id": "07bfefdd",
   "metadata": {
    "colab": {
     "base_uri": "https://localhost:8080/",
     "height": 35
    },
    "executionInfo": {
     "elapsed": 128,
     "status": "ok",
     "timestamp": 1601062130311,
     "user": {
      "displayName": "gonzalo molina",
      "photoUrl": "",
      "userId": "03146719216223860883"
     },
     "user_tz": 180
    },
    "id": "0Z2CTQWJuaKh",
    "outputId": "60ed8471-71f1-45e6-b17c-fe12f462224a"
   },
   "outputs": [],
   "source": [
    "fig, ax = plt.subplots(figsize=(12,4))\n",
    "ax.plot(t,y[1,:],label=\"psys conectado con ref\")\n",
    "ax.set_title('Respuesta al escalón en la referencia')\n",
    "ax.set_xlabel(\"Tiempo\")\n",
    "ax.set_ylabel(\"Esfuerzo de control\")\n",
    "ax.grid()"
   ]
  },
  {
   "cell_type": "markdown",
   "id": "ed9e0449",
   "metadata": {
    "id": "MvRx1V1S2TnA"
   },
   "source": [
    "## Control integral y estimador de orden completo"
   ]
  },
  {
   "cell_type": "code",
   "execution_count": null,
   "id": "9f02acca",
   "metadata": {
    "colab": {
     "base_uri": "https://localhost:8080/",
     "height": 69
    },
    "executionInfo": {
     "elapsed": 91,
     "status": "ok",
     "timestamp": 1601064254755,
     "user": {
      "displayName": "gonzalo molina",
      "photoUrl": "",
      "userId": "03146719216223860883"
     },
     "user_tz": 180
    },
    "id": "5XEsY1w03VID",
    "outputId": "3e24bb96-0aa7-4bdd-a6a3-27a32e14831e"
   },
   "outputs": [],
   "source": [
    "np.hstack((np.zeros((1,1)), sys.C))\n",
    "np.hstack((np.zeros((3,1)), sys.A))"
   ]
  },
  {
   "cell_type": "code",
   "execution_count": null,
   "id": "23580d42",
   "metadata": {
    "colab": {
     "base_uri": "https://localhost:8080/",
     "height": 86
    },
    "executionInfo": {
     "elapsed": 137,
     "status": "ok",
     "timestamp": 1601067258375,
     "user": {
      "displayName": "gonzalo molina",
      "photoUrl": "",
      "userId": "03146719216223860883"
     },
     "user_tz": 180
    },
    "id": "_ZyQvnrx2Swj",
    "outputId": "aaee9f45-edec-4458-c91a-b13b6c16a2cc"
   },
   "outputs": [],
   "source": [
    "Au=np.vstack((np.hstack((np.zeros((1,1)), sys.C)),\n",
    "              np.hstack((np.zeros((3,1)), sys.A))))\n",
    "Au"
   ]
  },
  {
   "cell_type": "code",
   "execution_count": null,
   "id": "7006eef1",
   "metadata": {
    "colab": {
     "base_uri": "https://localhost:8080/",
     "height": 86
    },
    "executionInfo": {
     "elapsed": 124,
     "status": "ok",
     "timestamp": 1601067260230,
     "user": {
      "displayName": "gonzalo molina",
      "photoUrl": "",
      "userId": "03146719216223860883"
     },
     "user_tz": 180
    },
    "id": "HDLxcWv32Zcp",
    "outputId": "08459074-5a2d-4f4f-8971-a790a841b4c2"
   },
   "outputs": [],
   "source": [
    "Bu = np.vstack((0,sys.B))\n",
    "Bu"
   ]
  },
  {
   "cell_type": "code",
   "execution_count": null,
   "id": "9379f073",
   "metadata": {
    "colab": {
     "base_uri": "https://localhost:8080/",
     "height": 35
    },
    "executionInfo": {
     "elapsed": 121,
     "status": "ok",
     "timestamp": 1601067278136,
     "user": {
      "displayName": "gonzalo molina",
      "photoUrl": "",
      "userId": "03146719216223860883"
     },
     "user_tz": 180
    },
    "id": "xTjVE_VV4Fyd",
    "outputId": "53c42b25-7d44-4edd-a92a-6bc09917ec85"
   },
   "outputs": [],
   "source": [
    "Ku = ctrl.place(Au,Bu, np.array([-1.42, -1.04+2.14j,-1.04-2.14j, -3])) \n",
    "Ku"
   ]
  },
  {
   "cell_type": "code",
   "execution_count": null,
   "id": "5954270a",
   "metadata": {
    "colab": {
     "base_uri": "https://localhost:8080/",
     "height": 35
    },
    "executionInfo": {
     "elapsed": 89,
     "status": "ok",
     "timestamp": 1601064658307,
     "user": {
      "displayName": "gonzalo molina",
      "photoUrl": "",
      "userId": "03146719216223860883"
     },
     "user_tz": 180
    },
    "id": "e83Oos2L4wHu",
    "outputId": "795bc121-f660-4ad2-e43e-f84f668e48a9"
   },
   "outputs": [],
   "source": [
    "Ki=Ku[0,0]\n",
    "Ki"
   ]
  },
  {
   "cell_type": "code",
   "execution_count": null,
   "id": "d164f902",
   "metadata": {
    "colab": {
     "base_uri": "https://localhost:8080/",
     "height": 138
    },
    "executionInfo": {
     "elapsed": 171,
     "status": "ok",
     "timestamp": 1601066269611,
     "user": {
      "displayName": "gonzalo molina",
      "photoUrl": "",
      "userId": "03146719216223860883"
     },
     "user_tz": 180
    },
    "id": "W51VcJ0p46dv",
    "outputId": "204a55ec-734b-4811-fca2-648638db3154"
   },
   "outputs": [],
   "source": [
    "integrador=ctrl.ss([[0]],[[Ki,-Ki]],[1],[0, 0])\n",
    "integrador"
   ]
  },
  {
   "cell_type": "code",
   "execution_count": null,
   "id": "1fd6c1f8",
   "metadata": {
    "colab": {
     "base_uri": "https://localhost:8080/",
     "height": 69
    },
    "executionInfo": {
     "elapsed": 61,
     "status": "ok",
     "timestamp": 1601067364768,
     "user": {
      "displayName": "gonzalo molina",
      "photoUrl": "",
      "userId": "03146719216223860883"
     },
     "user_tz": 180
    },
    "id": "GqECqPKz5lsy",
    "outputId": "f9109784-4fa7-431e-aab4-ab0acc349ab0"
   },
   "outputs": [],
   "source": [
    "###  Estimado  mas ley de control\n",
    "\n",
    "L=ctrl.place(sys.A.T, sys.C.T, np.array([-1.42, -1.04+2.14j,-1.04-2.14j])*3).T\n",
    "L"
   ]
  },
  {
   "cell_type": "code",
   "execution_count": null,
   "id": "d2ae5afd",
   "metadata": {
    "colab": {
     "base_uri": "https://localhost:8080/",
     "height": 69
    },
    "executionInfo": {
     "elapsed": 93,
     "status": "ok",
     "timestamp": 1601067365280,
     "user": {
      "displayName": "gonzalo molina",
      "photoUrl": "",
      "userId": "03146719216223860883"
     },
     "user_tz": 180
    },
    "id": "s8sJaVhB7q4h",
    "outputId": "bb5821b4-cf52-4b10-82d5-ece890af7896"
   },
   "outputs": [],
   "source": [
    "Ae=sys.A-L@sys.C\n",
    "Ae"
   ]
  },
  {
   "cell_type": "code",
   "execution_count": null,
   "id": "6b43ac8e",
   "metadata": {
    "colab": {
     "base_uri": "https://localhost:8080/",
     "height": 69
    },
    "executionInfo": {
     "elapsed": 94,
     "status": "ok",
     "timestamp": 1601067365912,
     "user": {
      "displayName": "gonzalo molina",
      "photoUrl": "",
      "userId": "03146719216223860883"
     },
     "user_tz": 180
    },
    "id": "KP1zSKxc7xW3",
    "outputId": "7cdc84d0-a3ce-4747-8989-3bb351c9a991"
   },
   "outputs": [],
   "source": [
    "Be=np.hstack((L,sys.B))\n",
    "Be"
   ]
  },
  {
   "cell_type": "code",
   "execution_count": null,
   "id": "ba8e9e3a",
   "metadata": {
    "colab": {
     "base_uri": "https://localhost:8080/",
     "height": 35
    },
    "executionInfo": {
     "elapsed": 85,
     "status": "ok",
     "timestamp": 1601067366792,
     "user": {
      "displayName": "gonzalo molina",
      "photoUrl": "",
      "userId": "03146719216223860883"
     },
     "user_tz": 180
    },
    "id": "Hdl8n3i58IVH",
    "outputId": "14499339-d225-4f93-b3b8-82abaa9f5167"
   },
   "outputs": [],
   "source": [
    "Ce=-Ku[0,1:]\n",
    "Ce"
   ]
  },
  {
   "cell_type": "code",
   "execution_count": null,
   "id": "bca8858a",
   "metadata": {
    "executionInfo": {
     "elapsed": 148,
     "status": "ok",
     "timestamp": 1601066272646,
     "user": {
      "displayName": "gonzalo molina",
      "photoUrl": "",
      "userId": "03146719216223860883"
     },
     "user_tz": 180
    },
    "id": "LZmu2ztl8kEe",
    "tags": [
     "hide-output"
    ]
   },
   "outputs": [],
   "source": [
    "De=0\n",
    "estim = ctrl.ss(Ae,Be,Ce,0)\n",
    "estim"
   ]
  },
  {
   "cell_type": "code",
   "execution_count": null,
   "id": "d797d274",
   "metadata": {
    "executionInfo": {
     "elapsed": 123,
     "status": "ok",
     "timestamp": 1601069598163,
     "user": {
      "displayName": "gonzalo molina",
      "photoUrl": "",
      "userId": "03146719216223860883"
     },
     "user_tz": 180
    },
    "id": "s5yGIPBR86ME",
    "tags": [
     "hide-output"
    ]
   },
   "outputs": [],
   "source": [
    "planta_controlada = ctrl.connect(ctrl.append(sys, estim, integrador), \n",
    "                                 [[1,2],[1,3],[2,1],[3,2],[3,3],[5,1]],[4],[1,2,3])\n",
    "planta_controlada"
   ]
  },
  {
   "cell_type": "code",
   "execution_count": null,
   "id": "61399eb1",
   "metadata": {
    "executionInfo": {
     "elapsed": 146,
     "status": "ok",
     "timestamp": 1601069601080,
     "user": {
      "displayName": "gonzalo molina",
      "photoUrl": "",
      "userId": "03146719216223860883"
     },
     "user_tz": 180
    },
    "id": "rbAlftZN9iqa"
   },
   "outputs": [],
   "source": [
    "t,y = ctrl.step_response(planta_controlada)"
   ]
  },
  {
   "cell_type": "code",
   "execution_count": null,
   "id": "6f4b438a",
   "metadata": {
    "colab": {
     "base_uri": "https://localhost:8080/",
     "height": 35
    },
    "executionInfo": {
     "elapsed": 118,
     "status": "ok",
     "timestamp": 1601069602083,
     "user": {
      "displayName": "gonzalo molina",
      "photoUrl": "",
      "userId": "03146719216223860883"
     },
     "user_tz": 180
    },
    "id": "xyw-x2pr9tg5",
    "outputId": "f909c522-af22-4b3e-a58b-ab29e5ca0a03",
    "tags": [
     "hide-input"
    ]
   },
   "outputs": [],
   "source": [
    "fig, ax = plt.subplots(figsize=(12,4))\n",
    "ax.plot(t,y[0,:],label=\"psys conectado con ref\")\n",
    "ax.set_title('Respuesta al escalón en la referencia')\n",
    "ax.set_xlabel(\"Tiempo\")\n",
    "ax.set_ylabel(\"Salida\")\n",
    "ax.grid()"
   ]
  },
  {
   "cell_type": "code",
   "execution_count": null,
   "id": "2997fe4a",
   "metadata": {
    "colab": {
     "base_uri": "https://localhost:8080/",
     "height": 52
    },
    "executionInfo": {
     "elapsed": 98,
     "status": "ok",
     "timestamp": 1601069608244,
     "user": {
      "displayName": "gonzalo molina",
      "photoUrl": "",
      "userId": "03146719216223860883"
     },
     "user_tz": 180
    },
    "id": "YApZZWyD9vSw",
    "outputId": "3ad7cb80-dacb-4b7f-b336-fa54add3112a"
   },
   "outputs": [],
   "source": [
    "planta_controlada.pole()"
   ]
  },
  {
   "cell_type": "code",
   "execution_count": null,
   "id": "d7632b82",
   "metadata": {
    "colab": {
     "base_uri": "https://localhost:8080/",
     "height": 35
    },
    "executionInfo": {
     "elapsed": 108,
     "status": "ok",
     "timestamp": 1601070775243,
     "user": {
      "displayName": "gonzalo molina",
      "photoUrl": "",
      "userId": "03146719216223860883"
     },
     "user_tz": 180
    },
    "id": "VroD8-gpCUGv",
    "outputId": "7c68b395-7c4e-4da5-afed-dbb32c8c87b9"
   },
   "outputs": [],
   "source": [
    "fig, ax = plt.subplots(figsize=(12,4))\n",
    "ax.plot(t,y[1,:],label=\"psys conectado con ref\")\n",
    "ax.set_title('Respuesta al escalón en la referencia')\n",
    "ax.set_xlabel(\"Tiempo\")\n",
    "ax.set_ylabel(\"Esfuerzo de control\")\n",
    "ax.grid()"
   ]
  }
 ],
 "metadata": {
  "jupytext": {
   "formats": "ipynb,md:myst",
   "text_representation": {
    "extension": ".md",
    "format_name": "myst",
    "format_version": 0.13,
    "jupytext_version": "1.10.2"
   }
  },
  "kernelspec": {
   "display_name": "Python 3",
   "language": "python",
   "name": "python3"
  },
  "source_map": [
   15,
   34,
   38,
   46,
   50,
   71,
   75,
   79,
   96,
   117,
   122,
   139,
   143,
   147,
   163,
   167,
   183,
   189,
   193,
   215,
   235,
   247,
   251,
   256,
   277,
   281,
   303,
   323,
   344,
   348,
   370,
   391,
   411,
   431,
   451,
   455,
   461,
   468,
   476,
   481,
   485,
   512,
   530,
   552,
   573,
   577,
   581,
   585,
   596,
   617,
   624,
   628,
   650,
   654,
   676,
   697,
   704,
   725,
   745,
   765,
   772,
   794,
   802,
   824,
   828,
   836,
   865,
   869,
   875,
   882,
   904,
   925,
   946,
   958,
   970,
   974,
   996,
   1024,
   1028,
   1056,
   1060,
   1081,
   1101,
   1117,
   1142,
   1167,
   1171,
   1192,
   1214,
   1235,
   1257,
   1278,
   1299,
   1322,
   1343,
   1364,
   1385,
   1404,
   1423,
   1439,
   1465,
   1485
  ]
 },
 "nbformat": 4,
 "nbformat_minor": 5
}