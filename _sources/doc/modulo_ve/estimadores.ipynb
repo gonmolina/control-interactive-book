{
 "cells": [
  {
   "cell_type": "markdown",
   "id": "d8db2f1d",
   "metadata": {
    "id": "-yaDGL7biDMS"
   },
   "source": [
    "# Diseño de estimadores\n",
    "\n",
    "Hasta ahora aprendimos a obetner la ley de control suponiendo conocido el vetor de estados. En general en control no se mido de forma completa todos lo estados del sistema. Por lo tanto será necesario contruir un sistema que nos permita __estimar__ los estados de la planta que quremos controlar a partir de lsa varaibles que conocemos. En general las variables que conocemos son las _salidas_ (mediciones) y las _entradas_ que son las variables que no da nuestro controlador y que serán entradas de los acutadores de la planta."
   ]
  },
  {
   "cell_type": "markdown",
   "id": "04bfe796",
   "metadata": {
    "id": "YSG8ObATiDMV"
   },
   "source": [
    "## Estimador de orden completo\n",
    "\n",
    "Con el modelo de la planta, suponiendo que es fiel a la realidad, uno podría pensar en darle las mismas entradas que tiene la planta y de obtener los estados del modelo directamente. Sin embargo esto choca con dos problemas:\n",
    "* se debe conocer las condiciones iniciales en todo momento, sino el sistema tardará lo que corresponda para  según sus modos para obtener una estimación correcta.\n",
    "* cualuier error en el modelado pueda hacer diverger las estiaciones respecto al vaor de los estados reales sin ningún control de las mismas."
   ]
  },
  {
   "cell_type": "markdown",
   "id": "edc13f0d",
   "metadata": {
    "id": "cT4SikTwiDMX"
   },
   "source": [
    "Por estos problemas, es que se hace lo que mejor hacemos en control, __REALIMENTAR__."
   ]
  },
  {
   "cell_type": "markdown",
   "id": "293b4794",
   "metadata": {
    "id": "_6qBicU_iDMZ"
   },
   "source": [
    "La idea es utilizar lo que sabemos de la salida tanto del modelo como de la planta para obtener una estimación de los estados. \n",
    "\n",
    "Llamando $\\mathbf {\\hat x}$ a la estimación de $\\mathbf x$ lo que se propone es un estimador que siga la siguiente escuciones:\n",
    "\n",
    "$$\\dot{ \\hat{ \\mathbf{x}}}=\\mathbf A\\hat{\\mathbf{x}}+\\mathbf B u+\\mathbf L(y-\\mathbf C \\hat{\\mathbf{x}})$$"
   ]
  },
  {
   "cell_type": "markdown",
   "id": "fc38307a",
   "metadata": {
    "id": "OBIu1_mfiDMa"
   },
   "source": [
    "Definimos entonces error de estimación como:\n",
    "$$\\tilde{\\mathbf x} = \\mathbf x -  \\mathbf {\\hat {\\mathbf x}}$$\n",
    "\n",
    "Por lo tanto la dinámica del error de estimación resulta:\n",
    "$$\\dot {\\tilde {\\mathbf{ x}}} = (\\mathbf A - \\mathbf{LC})\\tilde {\\mathbf x}$$"
   ]
  },
  {
   "cell_type": "markdown",
   "id": "aae49e0f",
   "metadata": {
    "id": "U9dR4qO3iDMb"
   },
   "source": [
    "La ecuación caraterística del error de estimación entonces e:\n",
    "$$\\det\\left[s\\mathbf I -(\\mathbf{A-LC}\\right)]=0$$"
   ]
  },
  {
   "cell_type": "markdown",
   "id": "c00eb53d",
   "metadata": {
    "id": "0hmPx2AOiDMd"
   },
   "source": [
    "Esta ecuación no esta dicendo que podemos elegir un $\\mathbf L$ de forma tal que la dinámica del error sea la que querramos.\n",
    "\n",
    "Si se compara con la de la ley de control:\n",
    "\n",
    "$$\\det\\left[s\\mathbf I -(\\mathbf{A-BK}\\right)]=0$$\n",
    "\n",
    "podemos ver ciertas simiitudes o semejanzas.\n",
    "\n",
    "Por ejemplo, si transponemos la ecuación caraterística del observador resulta:\n",
    "\n",
    "$$\\det\\left[s\\mathbf I -(\\mathbf{A'-C'L'}\\right)]=0$$"
   ]
  },
  {
   "cell_type": "markdown",
   "id": "a5be2988",
   "metadata": {
    "id": "ivR9oWmziDMe"
   },
   "source": [
    "De esta ecuación podemos ver que $\\mathbf L$ de forma análoga a como obtenemos $\\mathbf K$. \n",
    "\n",
    "```python\n",
    "L=(acker(A.T,C.T)).T\n",
    "\n",
    "```\n",
    "\n",
    "Siguiendo con el análisis análogo al de la ley de control, se puede decir que:\n",
    "\n",
    "**solo podremos tener una única L que no permite ubicar los polos de la dinámica del error de estimación si y solo si el sistema es observable**\n",
    "\n",
    "Y el sistema es observable si y solo si el rango de la matriz de obserbavilidad $\\mathcal O$ es igual al orden $n$ del sistema."
   ]
  },
  {
   "cell_type": "markdown",
   "id": "78071167",
   "metadata": {
    "id": "GJHXQldviDMf"
   },
   "source": [
    "A esto se lo conoce como **dualidad** entre los problemas de control y estimación."
   ]
  },
  {
   "cell_type": "markdown",
   "id": "5f4be513",
   "metadata": {
    "id": "VWKPR_BUiDMg"
   },
   "source": [
    "## Estimador de orden reducido"
   ]
  },
  {
   "cell_type": "markdown",
   "id": "0a72ac0e",
   "metadata": {
    "id": "T0b-HP_0iDMh"
   },
   "source": [
    "La idea de este estimador es reducir el orden del mismo.\n",
    "Para esto lo que se busca es no estimar las varaibles que se conocen de antemano, es decir las mediciones.\n",
    "\n",
    "Escribamos el sistema como:\n",
    "$$\\begin{bmatrix}\n",
    "\\dot {x_a} \\\\\n",
    "\\dot{\\mathbf{ x}_b}\\end{bmatrix}=\n",
    "\\begin{bmatrix} A_{aa}&\\mathbf A_{ab}\\\\\n",
    "\\mathbf A_{ba} & \\mathbf{A}_{bb}\\end{bmatrix}\\begin{bmatrix}\n",
    "x_a \\\\\n",
    "\\mathbf x_b\\end{bmatrix}$$\n",
    "$$y=[1 \\quad\\mathbf 0]\\begin{bmatrix} x_a \\\\ \\mathbf{x}_b\\end{bmatrix}$$"
   ]
  },
  {
   "cell_type": "markdown",
   "id": "7580bda7",
   "metadata": {
    "id": "3KmAGcHqiDMi"
   },
   "source": [
    "La dinámica de las variables no medidas está dada por:\n",
    "$$\\mathbf {\\dot x}_b = \\mathbf {A}_{bb}\\mathbf{x}_b + \\underbrace{\\mathbf{A}_{ba} x_a + \\mathbf B_bu}_{\\text{entradas conocidas}}$$"
   ]
  },
  {
   "cell_type": "markdown",
   "id": "78f84a50",
   "metadata": {
    "id": "UdzkPKv4iDMj"
   },
   "source": [
    "La ecuación de salida y de las variables de estado conocidas la podemos expresar como:\n",
    "$$\\underbrace{\\dot y - A_{aa}y - B_au}_{\\text{mediciones conocidas}} =\\mathbf A_{ab}\\mathbf{x}_b$$"
   ]
  },
  {
   "cell_type": "markdown",
   "id": "538ecba2",
   "metadata": {
    "id": "1ZBKu9asiDMk"
   },
   "source": [
    "De esta manera podemos hacer un equivalente con el estimador de orden completo.\n",
    "\n",
    "La primer ecuación la podemos comparar con la ecuación de la dinámica del estimador y la segunda ecuación la podemos comparar con la ecuación de salida, ambas del trabajo realizado para el estimador completo.\n",
    "\n",
    "Haciendo esto tenemos que:\n",
    "\n",
    "$$\\begin{eqnarray}\n",
    "\\mathbf{x} &\\leftarrow&\\mathbf x_b\\\\\n",
    "\\mathbf{A} &\\leftarrow&\\mathbf A_{bb}\\\\\n",
    "\\mathbf{B}u &\\leftarrow&\\mathbf A_{ba}y+\\mathbf B_{b}u\\\\\n",
    "y &\\leftarrow&\\dot y - A_{aa}y-\\mathbf B_{a}u\\\\\n",
    "\\mathbf{C} &\\leftarrow&\\mathbf A_{ab}\\\\\n",
    "\\end{eqnarray}$$"
   ]
  },
  {
   "cell_type": "markdown",
   "id": "bca49ca5",
   "metadata": {
    "id": "noiHPiuOiDMl"
   },
   "source": [
    "Sustituyendo en las ecuaciones del estimador completo, podemos obtener que las variables estiamadas del estimador reducido tienen la siguiente dinámica:\n",
    "\n",
    "$$\\mathbf {\\dot {\\hat x}}_b = \\mathbf {A}_{bb}\\mathbf{\\hat{x}}_b + \\underbrace{\\mathbf{A}_{ba} y + \\mathbf B_bu}_{\\text{entradas}} + \\mathbf L ( \\underbrace{\\dot y -A_{aa}y-B_a u}_{\\text{mediciones}}-\\mathbf A_{ab}\\mathbf{\\hat{x}_b})$$"
   ]
  },
  {
   "cell_type": "markdown",
   "id": "e3195a52",
   "metadata": {
    "id": "QgY1FGggiDMm"
   },
   "source": [
    "Entonces definimos el error de estimación como:\n",
    "\n",
    "$$\\mathbf{\\tilde{x}_b}=\\mathbf x_b-\\mathbf{\\hat{x}}_b$$\n",
    "\n",
    "y obtenmos la siguiente dinámica del error:"
   ]
  },
  {
   "cell_type": "markdown",
   "id": "d607c51f",
   "metadata": {
    "id": "ym7WJGLrGbJ6"
   },
   "source": [
    "$$\n",
    "\\mathbf{\\dot{\\tilde{x}}}_b = \\mathbf{\\dot{x}_b}-\\mathbf{\\dot{\\hat{x}}_b}\n",
    "$$\n",
    "\n",
    "$$\n",
    "\\mathbf{\\dot{\\tilde{x}}}_b =  \\mathbf {A}_{bb}\\mathbf{x}_b + \\mathbf{A}_{ba} x_a + \\mathbf B_bu -  \\mathbf {A}_{bb}\\mathbf{\\hat{x}}_b - \\mathbf{A}_{ba} y - \\mathbf B_bu - \\mathbf L ( \\dot y -A_{aa}y-B_a u-\\mathbf A_{ab}\\mathbf{\\hat{x}_b})\n",
    "$$\n",
    "\n",
    "$$\n",
    "\\mathbf{\\dot{\\tilde{x}}}_b =  \\mathbf {A}_{bb}\\mathbf{\\tilde x}_b  - \\mathbf L (\\underbrace{\\dot y - A_{aa}y - B_au}_{\\mathbf A_{ab}\\mathbf{x}_b}-\\mathbf A_{ab}\\mathbf{\\hat{x}_b}) =  \\mathbf {A}_{bb}\\mathbf{\\tilde x}_b  - \\mathbf L \\mathbf A_{ab}\\mathbf{\\tilde x}_b\n",
    "$$"
   ]
  },
  {
   "cell_type": "markdown",
   "id": "7f9c954d",
   "metadata": {
    "id": "a_pE65tNGie4"
   },
   "source": [
    "Finalmente:"
   ]
  },
  {
   "cell_type": "markdown",
   "id": "1f83c405",
   "metadata": {
    "id": "zS5DhpWrGbJ7"
   },
   "source": [
    "$$\\mathbf{\\dot{\\tilde{x}}}_b=(\\mathbf A_{bb} -\\mathbf L \\mathbf A_{ab})\\mathbf{\\tilde{x}}_b$$\n",
    "\n",
    "y la ecuación caraterística resulta:\n",
    "\n",
    "$$\\det\\left[s\\mathbf I -(\\mathbf{A}_{bb}-\\mathbf {LA}_{ab}\\right)]=0$$"
   ]
  },
  {
   "cell_type": "markdown",
   "id": "931b5d46",
   "metadata": {
    "id": "MNUU1YgliDMn"
   },
   "source": [
    "El problema que tiene el estimador es que depende de la derivada de $y$: uno mide $y$ y a partir de esta varible resuelve $\\dot y$, lo cual implica amplificar cualquier ruido presente en la medición:\n",
    "\n",
    "$$\\mathbf {\\dot {\\hat x}}_b = (\\mathbf {A}_{bb}-\\mathbf L\\mathbf A_{ab})\\mathbf{\\hat{x}}_b + (\\mathbf{A}_{ba}-\\mathbf L A_{aa})y + (\\mathbf B_b- \\mathbf L B_a) +\\mathbf L \\dot y $$\n",
    "\n",
    "Para poder obetner una ecuación del estimador sin la reivada de medición, lo que se puede hacer es redefinir la variable de esado como:\n",
    "\n",
    "$$\\mathbf x_c \\overset{\\Delta}{=}\\mathbf{\\hat{x}_b}-\\mathbf Ly$$\n",
    "\n",
    "Entonces la dinámica del este estimador resulta:\n",
    "$$\\mathbf {\\dot {\\hat x}}_c = (\\mathbf {A}_{bb}-\\mathbf L\\mathbf A_{ab})\\mathbf{\\hat{x}}_b + (\\mathbf{A}_{ba}-\\mathbf L A_{aa})y + (\\mathbf B_b- \\mathbf L B_a)u $$"
   ]
  },
  {
   "cell_type": "markdown",
   "id": "d3675ff5",
   "metadata": {
    "id": "qCYQwLAZiDMn"
   },
   "source": [
    "Para dejarlo todo en función de $\\mathbf{x}_c$:\n",
    "$$\\mathbf {\\dot {\\hat x}}_c = (\\mathbf {A}_{bb}-\\mathbf L\\mathbf A_{ab})(\\mathbf{x}_c+\\mathbf Ly) + (\\mathbf{A}_{ba}-\\mathbf L A_{aa})y + (\\mathbf B_b- \\mathbf L B_a)u $$"
   ]
  },
  {
   "cell_type": "markdown",
   "id": "2902efc0",
   "metadata": {
    "id": "c8LUE5d7iDMo"
   },
   "source": [
    "$$\\mathbf {\\dot {\\hat x}}_c = (\\mathbf {A}_{bb}-\\mathbf L\\mathbf A_{ab})\\mathbf{x}_c + (\\mathbf{A}_{ba}-\\mathbf L A_{aa} + \\mathbf {A}_{bb} \\mathbf L-\\mathbf L\\mathbf A_{ab}\\mathbf L)y + (\\mathbf B_b- \\mathbf L B_a)u $$"
   ]
  },
  {
   "cell_type": "markdown",
   "id": "7832c272",
   "metadata": {
    "id": "M_pBHg0riDMq"
   },
   "source": [
    "## Retomamos el ejemplo de péndulo\n",
    "\n",
    "Obtener el estimador completo para el péndulo. Ubicar los polos del error del estiamdor en $10\\omega_0$. Es decir 5 veces más rápido que los que ubicamos los polos de la ley de control."
   ]
  },
  {
   "cell_type": "code",
   "execution_count": 1,
   "id": "3b99e56f",
   "metadata": {
    "id": "EMtRWJIdiDMr",
    "tags": [
     "remove-cell"
    ]
   },
   "outputs": [],
   "source": [
    "import control as ctrl\n",
    "import numpy as np"
   ]
  },
  {
   "cell_type": "code",
   "execution_count": 2,
   "id": "1c8ca9f9",
   "metadata": {
    "id": "EMtRWJIdiDMr"
   },
   "outputs": [],
   "source": [
    "w0=2\n",
    "A=[[0,1],[-w0**2,0]]\n",
    "B=[[0],[1]]\n",
    "C=[1,0]\n",
    "D=0\n",
    "sys=ctrl.ss(A,B,C,D)"
   ]
  },
  {
   "cell_type": "markdown",
   "id": "d8692f82",
   "metadata": {
    "id": "iIbgk2pqGbKG"
   },
   "source": [
    "### Cálculo del obsrevador completo"
   ]
  },
  {
   "cell_type": "code",
   "execution_count": 3,
   "id": "1e709926",
   "metadata": {
    "id": "RVnOImHHiDMx"
   },
   "outputs": [
    {
     "data": {
      "text/plain": [
       "array([[-40.],\n",
       "       [396.]])"
      ]
     },
     "execution_count": 3,
     "metadata": {},
     "output_type": "execute_result"
    }
   ],
   "source": [
    "L=(ctrl.acker(sys.A.T,sys.C.T,[10*w0,10*w0])).T\n",
    "L"
   ]
  },
  {
   "cell_type": "markdown",
   "id": "0fc81c55",
   "metadata": {
    "id": "By0jLubjGbKR"
   },
   "source": [
    "### Calculo del observador reducido"
   ]
  },
  {
   "cell_type": "code",
   "execution_count": 4,
   "id": "24d65e03",
   "metadata": {
    "id": "U0FxBQyWiDM8"
   },
   "outputs": [],
   "source": [
    "n=sys.A.shape[0]\n",
    "Aaa=sys.A[0:1,0:1]\n",
    "Aab=sys.A[0,1:]\n",
    "Aba=sys.A[1:,0:1]\n",
    "Abb=sys.A[1:,1:]\n",
    "Ba=sys.B[0:1]\n",
    "Bb=sys.B[1:]"
   ]
  },
  {
   "cell_type": "code",
   "execution_count": 5,
   "id": "79ebea12",
   "metadata": {
    "id": "MnME15obGbKY",
    "outputId": "fbd400f6-cb08-4239-bb43-94bf82c39dc8"
   },
   "outputs": [
    {
     "data": {
      "text/plain": [
       "array([[20.]])"
      ]
     },
     "execution_count": 5,
     "metadata": {},
     "output_type": "execute_result"
    }
   ],
   "source": [
    "Lred=(ctrl.acker(Abb.T, Aab.T, [-10*w0])).T # notar que se tata de ubicar un solo polo\n",
    "Lred"
   ]
  }
 ],
 "metadata": {
  "jupytext": {
   "formats": "ipynb,md:myst",
   "text_representation": {
    "extension": ".md",
    "format_name": "myst",
    "format_version": 0.13,
    "jupytext_version": "1.10.2"
   }
  },
  "kernelspec": {
   "display_name": "Python 3",
   "language": "python",
   "name": "python3"
  },
  "language_info": {
   "codemirror_mode": {
    "name": "ipython",
    "version": 3
   },
   "file_extension": ".py",
   "mimetype": "text/x-python",
   "name": "python",
   "nbconvert_exporter": "python",
   "pygments_lexer": "ipython3",
   "version": "3.8.11"
  },
  "source_map": [
   15,
   22,
   30,
   34,
   42,
   50,
   55,
   70,
   85,
   89,
   93,
   108,
   113,
   118,
   134,
   140,
   148,
   162,
   166,
   174,
   188,
   193,
   197,
   203,
   211,
   222,
   226,
   233,
   237,
   249
  ]
 },
 "nbformat": 4,
 "nbformat_minor": 5
}